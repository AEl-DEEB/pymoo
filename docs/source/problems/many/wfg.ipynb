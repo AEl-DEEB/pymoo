{
 "cells": [
  {
   "cell_type": "raw",
   "metadata": {
    "raw_mimetype": "text/restructuredtext"
   },
   "source": [
    ".. _nb_wfg:"
   ]
  },
  {
   "cell_type": "markdown",
   "metadata": {},
   "source": [
    "# WFG\n",
    "\n",
    "WFG1 to WFG9 are available."
   ]
  },
  {
   "cell_type": "code",
   "execution_count": null,
   "metadata": {
    "execution": {
     "iopub.execute_input": "2022-07-29T18:28:24.758202Z",
     "iopub.status.busy": "2022-07-29T18:28:24.757749Z",
     "iopub.status.idle": "2022-07-29T18:28:24.856840Z",
     "shell.execute_reply": "2022-07-29T18:28:24.855600Z"
    }
   },
   "outputs": [],
   "source": [
    "from pymoo.problems.many.wfg import WFG1\n",
    "wfg = WFG1(n_var=10, n_obj=3)"
   ]
  }
 ],
 "metadata": {
  "kernelspec": {
   "display_name": "Python 3",
   "language": "python",
   "name": "python3"
  },
  "language_info": {
   "codemirror_mode": {
    "name": "ipython",
    "version": 3
   },
   "file_extension": ".py",
   "mimetype": "text/x-python",
   "name": "python",
   "nbconvert_exporter": "python",
   "pygments_lexer": "ipython3",
   "version": "3.10.5"
  }
 },
 "nbformat": 4,
 "nbformat_minor": 4
}
