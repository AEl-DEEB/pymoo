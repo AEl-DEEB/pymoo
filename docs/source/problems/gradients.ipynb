{
 "cells": [
  {
   "cell_type": "raw",
   "metadata": {
    "raw_mimetype": "text/restructuredtext"
   },
   "source": [
    ".. _nb_gradients:"
   ]
  },
  {
   "cell_type": "markdown",
   "metadata": {},
   "source": [
    "# Gradients"
   ]
  },
  {
   "cell_type": "markdown",
   "metadata": {},
   "source": [
    "If the problem is implemented using autograd then the gradients through automatic differentiation are available out of the box. Let us consider the following problem definition for a simple quadratic function without any constraints:"
   ]
  },
  {
   "cell_type": "code",
   "execution_count": 1,
   "metadata": {
    "execution": {
     "iopub.execute_input": "2022-07-03T13:06:39.375266Z",
     "iopub.status.busy": "2022-07-03T13:06:39.373716Z",
     "iopub.status.idle": "2022-07-03T13:06:39.985947Z",
     "shell.execute_reply": "2022-07-03T13:06:39.984872Z"
    },
    "tags": []
   },
   "outputs": [],
   "source": [
    "import numpy as np\n",
    "\n",
    "import pymoo.gradient.toolbox as anp\n",
    "from pymoo.core.problem import Problem\n",
    "from pymoo.gradient.automatic import AutomaticDifferentiation\n",
    "\n",
    "\n",
    "class MyProblem(Problem):\n",
    "\n",
    "    def __init__(self):\n",
    "        super().__init__(n_var=10, n_obj=1, xl=-5, xu=5)\n",
    "\n",
    "    def _evaluate(self, x, out, *args, **kwargs):\n",
    "        out[\"F\"] = anp.sum(anp.power(x, 2), axis=1)\n",
    "\n",
    "problem = AutomaticDifferentiation(MyProblem())"
   ]
  },
  {
   "cell_type": "markdown",
   "metadata": {},
   "source": [
    "The gradients can be retrieved by appending `F` to the `return_values_of` parameter:"
   ]
  },
  {
   "cell_type": "code",
   "execution_count": 2,
   "metadata": {
    "execution": {
     "iopub.execute_input": "2022-07-03T13:06:39.999539Z",
     "iopub.status.busy": "2022-07-03T13:06:39.995743Z",
     "iopub.status.idle": "2022-07-03T13:06:40.023780Z",
     "shell.execute_reply": "2022-07-03T13:06:40.022932Z"
    },
    "tags": []
   },
   "outputs": [],
   "source": [
    "X = np.array([np.arange(10)]).astype(float)\n",
    "F, dF = problem.evaluate(X, return_values_of=[\"F\", \"dF\"])"
   ]
  },
  {
   "cell_type": "markdown",
   "metadata": {},
   "source": [
    "The resulting gradients are stored in `dF` and the shape is (n_rows, n_objective, n_vars):"
   ]
  },
  {
   "cell_type": "code",
   "execution_count": 3,
   "metadata": {
    "execution": {
     "iopub.execute_input": "2022-07-03T13:06:40.038094Z",
     "iopub.status.busy": "2022-07-03T13:06:40.030462Z",
     "iopub.status.idle": "2022-07-03T13:06:40.058252Z",
     "shell.execute_reply": "2022-07-03T13:06:40.053911Z"
    },
    "tags": []
   },
   "outputs": [
    {
     "name": "stdout",
     "output_type": "stream",
     "text": [
      "[[0. 1. 2. 3. 4. 5. 6. 7. 8. 9.]] [[285.]]\n",
      "(1, 1, 10)\n",
      "[[[ 0.  2.  4.  6.  8. 10. 12. 14. 16. 18.]]]\n"
     ]
    }
   ],
   "source": [
    "print(X, F)\n",
    "print(dF.shape)\n",
    "print(dF)"
   ]
  },
  {
   "cell_type": "markdown",
   "metadata": {},
   "source": [
    "Analogously, the gradient of constraints can be retrieved by appending `dG`."
   ]
  }
 ],
 "metadata": {
  "kernelspec": {
   "display_name": "Python 3",
   "language": "python",
   "name": "python3"
  },
  "language_info": {
   "codemirror_mode": {
    "name": "ipython",
    "version": 3
   },
   "file_extension": ".py",
   "mimetype": "text/x-python",
   "name": "python",
   "nbconvert_exporter": "python",
   "pygments_lexer": "ipython3",
   "version": "3.9.12"
  }
 },
 "nbformat": 4,
 "nbformat_minor": 4
}
