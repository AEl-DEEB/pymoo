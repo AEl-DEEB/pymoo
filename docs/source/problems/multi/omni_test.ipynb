{
 "cells": [
  {
   "cell_type": "markdown",
   "metadata": {
    "pycharm": {
     "name": "#%% md\n"
    }
   },
   "source": [
    "# Omni-test\n",
    "The Omni-test problem is a multi-modal multi-objective optimization problem proposed by Deb in <cite data-cite=\"omni_test\"></cite>. It has two objective\n",
    "functions. Suppose that the dimension of the decision space is $D$, then it has $3^D$ Pareto subsets in the decision\n",
    "space corresponding to the same Pareto front."
   ]
  },
  {
   "cell_type": "markdown",
   "metadata": {
    "pycharm": {
     "name": "#%% md\n"
    }
   },
   "source": [
    "## 2-dimensional case\n",
    "### Pareto front"
   ]
  },
  {
   "cell_type": "code",
   "execution_count": null,
   "metadata": {
    "execution": {
     "iopub.execute_input": "2021-09-03T17:47:45.604076Z",
     "iopub.status.busy": "2021-09-03T17:47:45.603311Z",
     "iopub.status.idle": "2021-09-03T17:47:46.148900Z",
     "shell.execute_reply": "2021-09-03T17:47:46.149295Z"
    },
    "jupyter": {
     "outputs_hidden": false
    },
    "pycharm": {
     "name": "#%%\n"
    }
   },
   "outputs": [],
   "source": [
    "from pymoo.problems.multi.omnitest import OmniTest\n",
    "from pymoo.visualization.scatter import Scatter\n",
    "\n",
    "problem = OmniTest(n_var=2)\n",
    "pf = problem.pareto_front(1000)\n",
    "Scatter(title=\"Pareto front\").add(pf).show()"
   ]
  },
  {
   "cell_type": "markdown",
   "metadata": {
    "pycharm": {
     "name": "#%% md\n"
    }
   },
   "source": [
    "### Pareto set"
   ]
  },
  {
   "cell_type": "code",
   "execution_count": null,
   "metadata": {
    "execution": {
     "iopub.execute_input": "2021-09-03T17:47:46.209329Z",
     "iopub.status.busy": "2021-09-03T17:47:46.153215Z",
     "iopub.status.idle": "2021-09-03T17:47:46.403483Z",
     "shell.execute_reply": "2021-09-03T17:47:46.403954Z"
    },
    "jupyter": {
     "outputs_hidden": false
    },
    "pycharm": {
     "name": "#%%\n"
    }
   },
   "outputs": [],
   "source": [
    "ps = problem.pareto_set(1000)\n",
    "Scatter(title=\"Pareto set\", labels=[\"$x_1$\", \"$x_2$\"]).add(ps).show()"
   ]
  },
  {
   "cell_type": "markdown",
   "metadata": {
    "pycharm": {
     "name": "#%% md\n"
    }
   },
   "source": [
    "## 3-dimensional case\n",
    "### Pareto front"
   ]
  },
  {
   "cell_type": "code",
   "execution_count": null,
   "metadata": {
    "execution": {
     "iopub.execute_input": "2021-09-03T17:47:46.408906Z",
     "iopub.status.busy": "2021-09-03T17:47:46.408325Z",
     "iopub.status.idle": "2021-09-03T17:47:46.659153Z",
     "shell.execute_reply": "2021-09-03T17:47:46.659611Z"
    },
    "jupyter": {
     "outputs_hidden": false
    },
    "pycharm": {
     "name": "#%%\n"
    }
   },
   "outputs": [],
   "source": [
    "problem = OmniTest(n_var=3)\n",
    "pf = problem.pareto_front(3000)\n",
    "Scatter(title=\"Pareto front\").add(pf).show()"
   ]
  },
  {
   "cell_type": "markdown",
   "metadata": {},
   "source": [
    "### Pareto set"
   ]
  },
  {
   "cell_type": "code",
   "execution_count": null,
   "metadata": {
    "execution": {
     "iopub.execute_input": "2021-09-03T17:47:46.665134Z",
     "iopub.status.busy": "2021-09-03T17:47:46.664496Z",
     "iopub.status.idle": "2021-09-03T17:47:46.866575Z",
     "shell.execute_reply": "2021-09-03T17:47:46.867056Z"
    },
    "jupyter": {
     "outputs_hidden": false
    },
    "pycharm": {
     "name": "#%%\n"
    }
   },
   "outputs": [],
   "source": [
    "import matplotlib.pyplot as plt\n",
    "\n",
    "ps = problem.pareto_set(1000)\n",
    "sc = Scatter(title=\"Pareto set\", labels=[\"$x_1$\", \"$x_2$\", \"$x_3$\"])\n",
    "sc.add(ps)\n",
    "sc.do()\n",
    "sc.ax.view_init(elev=20, azim=5)\n",
    "plt.show()"
   ]
  }
 ],
 "metadata": {
  "kernelspec": {
   "display_name": "Python 3",
   "language": "python",
   "name": "python3"
  },
  "language_info": {
   "codemirror_mode": {
    "name": "ipython",
    "version": 3
   },
   "file_extension": ".py",
   "mimetype": "text/x-python",
   "name": "python",
   "nbconvert_exporter": "python",
   "pygments_lexer": "ipython3",
   "version": "3.9.7"
  }
 },
 "nbformat": 4,
 "nbformat_minor": 4
}
