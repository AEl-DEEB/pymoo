{
 "cells": [
  {
   "cell_type": "markdown",
   "metadata": {
    "pycharm": {
     "name": "#%% md\n"
    }
   },
   "source": [
    "# Omni-test\n",
    "The Omni-test problem is a multi-modal multi-objective optimization problem proposed by Deb in <cite data-cite=\"omni_test\"></cite>. It has two objective\n",
    "functions. Suppose that the dimension of the decision space is $D$, then it has $3^D$ Pareto subsets in the decision\n",
    "space corresponding to the same Pareto front."
   ]
  },
  {
   "cell_type": "markdown",
   "metadata": {
    "pycharm": {
     "name": "#%% md\n"
    }
   },
   "source": [
    "## 2-dimensional case\n",
    "### Pareto front"
   ]
  },
  {
   "cell_type": "code",
   "execution_count": null,
   "metadata": {
    "execution": {
     "iopub.execute_input": "2022-07-29T18:28:38.509749Z",
     "iopub.status.busy": "2022-07-29T18:28:38.509360Z",
     "iopub.status.idle": "2022-07-29T18:28:39.018369Z",
     "shell.execute_reply": "2022-07-29T18:28:39.017492Z"
    },
    "jupyter": {
     "outputs_hidden": false
    },
    "pycharm": {
     "name": "#%%\n"
    }
   },
   "outputs": [],
   "source": [
    "from pymoo.problems.multi.omnitest import OmniTest\n",
    "from pymoo.visualization.scatter import Scatter\n",
    "\n",
    "problem = OmniTest(n_var=2)\n",
    "pf = problem.pareto_front(1000)\n",
    "Scatter(title=\"Pareto front\").add(pf).show()"
   ]
  },
  {
   "cell_type": "markdown",
   "metadata": {
    "pycharm": {
     "name": "#%% md\n"
    }
   },
   "source": [
    "### Pareto set"
   ]
  },
  {
   "cell_type": "code",
   "execution_count": null,
   "metadata": {
    "execution": {
     "iopub.execute_input": "2022-07-29T18:28:39.022209Z",
     "iopub.status.busy": "2022-07-29T18:28:39.021903Z",
     "iopub.status.idle": "2022-07-29T18:28:39.196999Z",
     "shell.execute_reply": "2022-07-29T18:28:39.196250Z"
    },
    "jupyter": {
     "outputs_hidden": false
    },
    "pycharm": {
     "name": "#%%\n"
    }
   },
   "outputs": [],
   "source": [
    "ps = problem.pareto_set(1000)\n",
    "Scatter(title=\"Pareto set\", labels=[\"$x_1$\", \"$x_2$\"]).add(ps).show()"
   ]
  },
  {
   "cell_type": "markdown",
   "metadata": {
    "pycharm": {
     "name": "#%% md\n"
    }
   },
   "source": [
    "## 3-dimensional case\n",
    "### Pareto front"
   ]
  },
  {
   "cell_type": "code",
   "execution_count": null,
   "metadata": {
    "execution": {
     "iopub.execute_input": "2022-07-29T18:28:39.200861Z",
     "iopub.status.busy": "2022-07-29T18:28:39.200438Z",
     "iopub.status.idle": "2022-07-29T18:28:39.406741Z",
     "shell.execute_reply": "2022-07-29T18:28:39.405901Z"
    },
    "jupyter": {
     "outputs_hidden": false
    },
    "pycharm": {
     "name": "#%%\n"
    }
   },
   "outputs": [],
   "source": [
    "problem = OmniTest(n_var=3)\n",
    "pf = problem.pareto_front(3000)\n",
    "Scatter(title=\"Pareto front\").add(pf).show()"
   ]
  },
  {
   "cell_type": "markdown",
   "metadata": {},
   "source": [
    "### Pareto set"
   ]
  },
  {
   "cell_type": "code",
   "execution_count": null,
   "metadata": {
    "execution": {
     "iopub.execute_input": "2022-07-29T18:28:39.410618Z",
     "iopub.status.busy": "2022-07-29T18:28:39.410260Z",
     "iopub.status.idle": "2022-07-29T18:28:39.606618Z",
     "shell.execute_reply": "2022-07-29T18:28:39.605589Z"
    },
    "jupyter": {
     "outputs_hidden": false
    },
    "pycharm": {
     "name": "#%%\n"
    }
   },
   "outputs": [],
   "source": [
    "import matplotlib.pyplot as plt\n",
    "\n",
    "ps = problem.pareto_set(1000)\n",
    "sc = Scatter(title=\"Pareto set\", labels=[\"$x_1$\", \"$x_2$\", \"$x_3$\"])\n",
    "sc.add(ps)\n",
    "sc.do()\n",
    "sc.ax.view_init(elev=20, azim=5)\n",
    "plt.show()"
   ]
  }
 ],
 "metadata": {
  "kernelspec": {
   "display_name": "Python 3",
   "language": "python",
   "name": "python3"
  },
  "language_info": {
   "codemirror_mode": {
    "name": "ipython",
    "version": 3
   },
   "file_extension": ".py",
   "mimetype": "text/x-python",
   "name": "python",
   "nbconvert_exporter": "python",
   "pygments_lexer": "ipython3",
   "version": "3.10.5"
  }
 },
 "nbformat": 4,
 "nbformat_minor": 4
}
