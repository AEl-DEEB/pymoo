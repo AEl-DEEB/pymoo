{
 "cells": [
  {
   "cell_type": "raw",
   "metadata": {
    "raw_mimetype": "text/restructuredtext"
   },
   "source": [
    ".. _nb_truss2d:"
   ]
  },
  {
   "cell_type": "markdown",
   "metadata": {},
   "source": [
    "# Truss2D\n",
    "\n",
    "The problem was proposed in <cite data-cite=\"truss2d\"></cite> for the purpose of investigating rules on Pareto-front."
   ]
  },
  {
   "cell_type": "code",
   "execution_count": null,
   "metadata": {
    "code": "usage_problem.py",
    "execution": {
     "iopub.execute_input": "2021-09-03T17:47:51.417906Z",
     "iopub.status.busy": "2021-09-03T17:47:51.417293Z",
     "iopub.status.idle": "2021-09-03T17:47:51.955909Z",
     "shell.execute_reply": "2021-09-03T17:47:51.956306Z"
    },
    "section": "truss2d"
   },
   "outputs": [],
   "source": [
    "from pymoo.factory import get_problem\n",
    "from pymoo.visualization.scatter import Scatter\n",
    "\n",
    "pf = get_problem(\"truss2d\").pareto_front()\n",
    "\n",
    "sc = Scatter(title=\"Pareto-front\")\n",
    "sc.add(pf, s=80, facecolors='none', edgecolors='r')\n",
    "sc.add(pf, plot_type=\"line\", color=\"black\", linewidth=2)\n",
    "sc.show()"
   ]
  },
  {
   "cell_type": "code",
   "execution_count": null,
   "metadata": {
    "code": "usage_problem.py",
    "execution": {
     "iopub.execute_input": "2021-09-03T17:47:52.012655Z",
     "iopub.status.busy": "2021-09-03T17:47:52.011876Z",
     "iopub.status.idle": "2021-09-03T17:47:52.510334Z",
     "shell.execute_reply": "2021-09-03T17:47:52.510792Z"
    },
    "section": "truss2d_log"
   },
   "outputs": [],
   "source": [
    "sc.reset()\n",
    "sc.do()\n",
    "sc.apply(lambda ax: ax.set_yscale(\"log\"))\n",
    "sc.apply(lambda ax: ax.set_xscale(\"log\"))\n",
    "sc.show()"
   ]
  }
 ],
 "metadata": {
  "kernelspec": {
   "display_name": "Python 3",
   "language": "python",
   "name": "python3"
  },
  "language_info": {
   "codemirror_mode": {
    "name": "ipython",
    "version": 3
   },
   "file_extension": ".py",
   "mimetype": "text/x-python",
   "name": "python",
   "nbconvert_exporter": "python",
   "pygments_lexer": "ipython3",
   "version": "3.9.7"
  }
 },
 "nbformat": 4,
 "nbformat_minor": 4
}
