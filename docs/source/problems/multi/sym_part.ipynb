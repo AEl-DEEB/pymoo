{
 "cells": [
  {
   "cell_type": "markdown",
   "metadata": {
    "pycharm": {
     "name": "#%% md\n"
    }
   },
   "source": [
    "# SYM-PART\n",
    "\n",
    "The SYM-PART <cite data-cite=\"sym_part\"></cite> problem suite is a multi-modal multi-objective optimization problem (MMOP).\n",
    "**In MMOPs, a solution $y$ in the objective space may have several inverse images in the decision space**.\n",
    "For this reason, an MMOP could have more than one Pareto subsets.\n",
    "\n",
    "The SYM-PART has two variants: SYM-PART simple and SYM-PART rotated. Both of them have the same Pareto front.\n",
    "But their Pareto sets are different."
   ]
  },
  {
   "cell_type": "markdown",
   "metadata": {
    "pycharm": {
     "name": "#%% md\n"
    }
   },
   "source": [
    "## 1. SYM-PART Simple"
   ]
  },
  {
   "cell_type": "markdown",
   "metadata": {
    "pycharm": {
     "name": "#%% md\n"
    }
   },
   "source": [
    "### Pareto subsets"
   ]
  },
  {
   "cell_type": "code",
   "execution_count": null,
   "metadata": {
    "execution": {
     "iopub.execute_input": "2022-07-29T18:28:55.769151Z",
     "iopub.status.busy": "2022-07-29T18:28:55.768758Z",
     "iopub.status.idle": "2022-07-29T18:28:56.242803Z",
     "shell.execute_reply": "2022-07-29T18:28:56.242140Z"
    },
    "jupyter": {
     "outputs_hidden": false
    },
    "pycharm": {
     "name": "#%%\n"
    }
   },
   "outputs": [],
   "source": [
    "from pymoo.problems.multi.sympart import SYMPART, SYMPARTRotated\n",
    "from pymoo.visualization.scatter import Scatter\n",
    "\n",
    "problem = SYMPART()\n",
    "ps = problem.pareto_set()\n",
    "Scatter(title=\"Pareto set\", xlabel=\"$x_1$\", ylabel=\"$x_2$\").add(ps).show()"
   ]
  },
  {
   "cell_type": "markdown",
   "metadata": {
    "pycharm": {
     "name": "#%% md\n"
    }
   },
   "source": [
    "### Pareto front"
   ]
  },
  {
   "cell_type": "code",
   "execution_count": null,
   "metadata": {
    "execution": {
     "iopub.execute_input": "2022-07-29T18:28:56.247047Z",
     "iopub.status.busy": "2022-07-29T18:28:56.246715Z",
     "iopub.status.idle": "2022-07-29T18:28:56.475871Z",
     "shell.execute_reply": "2022-07-29T18:28:56.475112Z"
    },
    "jupyter": {
     "outputs_hidden": false
    },
    "pycharm": {
     "name": "#%%\n"
    }
   },
   "outputs": [],
   "source": [
    "pf = problem.pareto_front()\n",
    "Scatter(title=\"Pareto front\").add(pf).show()"
   ]
  },
  {
   "cell_type": "markdown",
   "metadata": {},
   "source": [
    "## 2. SYM-PART Rotated\n",
    "### Pareto subsets\n",
    "The pareto subsets can be rotated."
   ]
  },
  {
   "cell_type": "code",
   "execution_count": null,
   "metadata": {
    "execution": {
     "iopub.execute_input": "2022-07-29T18:28:56.479265Z",
     "iopub.status.busy": "2022-07-29T18:28:56.478996Z",
     "iopub.status.idle": "2022-07-29T18:28:56.688039Z",
     "shell.execute_reply": "2022-07-29T18:28:56.687130Z"
    },
    "jupyter": {
     "outputs_hidden": false
    },
    "pycharm": {
     "name": "#%%\n"
    }
   },
   "outputs": [],
   "source": [
    "from numpy import pi\n",
    "\n",
    "# rotate pi/3 counter-clockwisely\n",
    "problem = SYMPARTRotated(angle=pi/3)\n",
    "ps = problem.pareto_set()\n",
    "Scatter(title=\"Pareto set\", xlabel=\"$x_1$\", ylabel=\"$x_2$\").add(ps).show()"
   ]
  },
  {
   "cell_type": "markdown",
   "metadata": {
    "pycharm": {
     "name": "#%% md\n"
    }
   },
   "source": [
    "### Pareto front"
   ]
  },
  {
   "cell_type": "code",
   "execution_count": null,
   "metadata": {
    "execution": {
     "iopub.execute_input": "2022-07-29T18:28:56.691854Z",
     "iopub.status.busy": "2022-07-29T18:28:56.691472Z",
     "iopub.status.idle": "2022-07-29T18:28:56.909728Z",
     "shell.execute_reply": "2022-07-29T18:28:56.909026Z"
    },
    "jupyter": {
     "outputs_hidden": false
    },
    "pycharm": {
     "name": "#%%\n"
    }
   },
   "outputs": [],
   "source": [
    "pf = problem.pareto_front()\n",
    "Scatter(title=\"Pareto front\").add(pf).show()"
   ]
  }
 ],
 "metadata": {
  "kernelspec": {
   "display_name": "Python 3",
   "language": "python",
   "name": "python3"
  },
  "language_info": {
   "codemirror_mode": {
    "name": "ipython",
    "version": 3
   },
   "file_extension": ".py",
   "mimetype": "text/x-python",
   "name": "python",
   "nbconvert_exporter": "python",
   "pygments_lexer": "ipython3",
   "version": "3.10.5"
  }
 },
 "nbformat": 4,
 "nbformat_minor": 4
}
