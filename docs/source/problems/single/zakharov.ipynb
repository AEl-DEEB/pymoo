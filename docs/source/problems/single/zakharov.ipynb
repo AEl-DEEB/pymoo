{
 "cells": [
  {
   "cell_type": "raw",
   "metadata": {
    "raw_mimetype": "text/restructuredtext"
   },
   "source": [
    ".. _nb_zakharov:"
   ]
  },
  {
   "cell_type": "markdown",
   "metadata": {},
   "source": [
    "## Zakharov\n",
    "\n",
    "The Zakharov function has no local minima except the global one. It is shown here in its two-dimensional form."
   ]
  },
  {
   "cell_type": "markdown",
   "metadata": {},
   "source": [
    "**Definition**"
   ]
  },
  {
   "cell_type": "markdown",
   "metadata": {},
   "source": [
    "\\begin{align}\n",
    "\\begin{split}\n",
    "f(x) &=& \\sum\\limits_{i=1}^n {x_i^2} + \\bigg( \\frac{1}{2} \\sum\\limits_{i=1}^n {ix_i} \\bigg)^2 + \\bigg( \\frac{1}{2} \\sum\\limits_{i=1}^n {ix_i} \\bigg)^4, \\\\[2mm]\n",
    "&& -10 \\leq x_i \\leq 10 \\quad i=1,\\ldots,n\n",
    "\\end{split}\n",
    "\\end{align}"
   ]
  },
  {
   "cell_type": "markdown",
   "metadata": {},
   "source": [
    "**Optimum**"
   ]
  },
  {
   "cell_type": "markdown",
   "metadata": {},
   "source": [
    "$$f(x^*) = 0 \\; \\text{at} \\; x^* = (0,\\ldots,0) $$"
   ]
  },
  {
   "cell_type": "markdown",
   "metadata": {},
   "source": [
    "**Fitness Landscape**"
   ]
  },
  {
   "cell_type": "code",
   "execution_count": null,
   "metadata": {
    "execution": {
     "iopub.execute_input": "2022-07-30T17:32:18.178640Z",
     "iopub.status.busy": "2022-07-30T17:32:18.178150Z",
     "iopub.status.idle": "2022-07-30T17:32:19.157763Z",
     "shell.execute_reply": "2022-07-30T17:32:19.156940Z"
    }
   },
   "outputs": [],
   "source": [
    "import numpy as np\n",
    "\n",
    "from pymoo.problems import get_problem\n",
    "from pymoo.visualization.fitness_landscape import FitnessLandscape\n",
    "\n",
    "problem = get_problem(\"zakharov\", n_var=2)\n",
    "\n",
    "FitnessLandscape(problem, angle=(45, 45), _type=\"surface\").show()"
   ]
  },
  {
   "cell_type": "code",
   "execution_count": null,
   "metadata": {
    "code": "usage_problem.py",
    "execution": {
     "iopub.execute_input": "2022-07-30T17:32:19.165313Z",
     "iopub.status.busy": "2022-07-30T17:32:19.164939Z",
     "iopub.status.idle": "2022-07-30T17:32:19.719447Z",
     "shell.execute_reply": "2022-07-30T17:32:19.718665Z"
    },
    "section": "zakharov",
    "tags": []
   },
   "outputs": [],
   "source": [
    "FitnessLandscape(problem, _type=\"contour\", contour_levels = 200, colorbar=True).show()"
   ]
  }
 ],
 "metadata": {
  "kernelspec": {
   "display_name": "Python 3",
   "language": "python",
   "name": "python3"
  },
  "language_info": {
   "codemirror_mode": {
    "name": "ipython",
    "version": 3
   },
   "file_extension": ".py",
   "mimetype": "text/x-python",
   "name": "python",
   "nbconvert_exporter": "python",
   "pygments_lexer": "ipython3",
   "version": "3.10.5"
  }
 },
 "nbformat": 4,
 "nbformat_minor": 4
}
