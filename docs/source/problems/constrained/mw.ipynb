{
 "cells": [
  {
   "cell_type": "raw",
   "metadata": {
    "raw_mimetype": "text/restructuredtext"
   },
   "source": [
    ".. _nb_mw:"
   ]
  },
  {
   "cell_type": "markdown",
   "metadata": {},
   "source": [
    "## MW\n",
    "\n",
    "MW <cite data-cite=\"mw\"></cite> is a constrained multi-objective test suite constructed in a similar fashion to CTP or WFG with 3 different distance functions and 3 local adjustment methods. Most problems are biobjective problems, except MW4, MW8 and MW14 which are scalable ($m \\geq 3$).\n",
    "\n",
    "They aim at replacing the CTP test suite by proposing more complex problems with up to 4 inequality constraints."
   ]
  },
  {
   "cell_type": "code",
   "execution_count": null,
   "metadata": {
    "execution": {
     "iopub.execute_input": "2022-07-29T18:29:33.519998Z",
     "iopub.status.busy": "2022-07-29T18:29:33.519531Z",
     "iopub.status.idle": "2022-07-29T18:29:33.601624Z",
     "shell.execute_reply": "2022-07-29T18:29:33.600922Z"
    }
   },
   "outputs": [],
   "source": [
    "from pymoo.problems import get_problem\n",
    "from pymoo.util.plotting import plot\n",
    "from pymoo.problems import get_problem\n",
    "from pymoo.util.ref_dirs import get_reference_directions\n",
    "from pymoo.visualization.scatter import Scatter"
   ]
  },
  {
   "cell_type": "raw",
   "metadata": {
    "raw_mimetype": "text/restructuredtext"
   },
   "source": [
    ".. _nb_mw1:"
   ]
  },
  {
   "cell_type": "markdown",
   "metadata": {},
   "source": [
    "### MW1"
   ]
  },
  {
   "cell_type": "code",
   "execution_count": null,
   "metadata": {
    "code": "usage_problem.py",
    "execution": {
     "iopub.execute_input": "2022-07-29T18:29:33.605622Z",
     "iopub.status.busy": "2022-07-29T18:29:33.605315Z",
     "iopub.status.idle": "2022-07-29T18:29:33.770981Z",
     "shell.execute_reply": "2022-07-29T18:29:33.770141Z"
    },
    "section": "zdt1",
    "tags": []
   },
   "outputs": [],
   "source": [
    "\n",
    "\n",
    "problem = get_problem(\"mw1\")\n",
    "plot(problem.pareto_front(), no_fill=True)"
   ]
  },
  {
   "cell_type": "markdown",
   "metadata": {},
   "source": [
    "### MW2"
   ]
  },
  {
   "cell_type": "code",
   "execution_count": null,
   "metadata": {
    "execution": {
     "iopub.execute_input": "2022-07-29T18:29:33.774695Z",
     "iopub.status.busy": "2022-07-29T18:29:33.774403Z",
     "iopub.status.idle": "2022-07-29T18:29:33.958232Z",
     "shell.execute_reply": "2022-07-29T18:29:33.957405Z"
    }
   },
   "outputs": [],
   "source": [
    "problem = get_problem(\"mw2\")\n",
    "plot(problem.pareto_front(), no_fill=True)"
   ]
  },
  {
   "cell_type": "markdown",
   "metadata": {},
   "source": [
    "### MW3"
   ]
  },
  {
   "cell_type": "code",
   "execution_count": null,
   "metadata": {
    "execution": {
     "iopub.execute_input": "2022-07-29T18:29:33.963196Z",
     "iopub.status.busy": "2022-07-29T18:29:33.962762Z",
     "iopub.status.idle": "2022-07-29T18:29:34.100200Z",
     "shell.execute_reply": "2022-07-29T18:29:34.099515Z"
    }
   },
   "outputs": [],
   "source": [
    "problem = get_problem(\"mw3\")\n",
    "plot(problem.pareto_front(), no_fill=True)"
   ]
  },
  {
   "cell_type": "markdown",
   "metadata": {},
   "source": [
    "### MW4"
   ]
  },
  {
   "cell_type": "code",
   "execution_count": null,
   "metadata": {
    "execution": {
     "iopub.execute_input": "2022-07-29T18:29:34.103472Z",
     "iopub.status.busy": "2022-07-29T18:29:34.103183Z",
     "iopub.status.idle": "2022-07-29T18:29:34.486170Z",
     "shell.execute_reply": "2022-07-29T18:29:34.485114Z"
    },
    "tags": []
   },
   "outputs": [],
   "source": [
    "ref_dirs = get_reference_directions(\"das-dennis\", 3, n_partitions=12)\n",
    "pf = get_problem(\"mw4\").pareto_front(ref_dirs)\n",
    "Scatter(angle=(45,45)).add(pf, color=\"red\").show()"
   ]
  },
  {
   "cell_type": "markdown",
   "metadata": {},
   "source": [
    "### MW5"
   ]
  },
  {
   "cell_type": "code",
   "execution_count": null,
   "metadata": {
    "execution": {
     "iopub.execute_input": "2022-07-29T18:29:34.491417Z",
     "iopub.status.busy": "2022-07-29T18:29:34.491101Z",
     "iopub.status.idle": "2022-07-29T18:29:34.625981Z",
     "shell.execute_reply": "2022-07-29T18:29:34.625293Z"
    }
   },
   "outputs": [],
   "source": [
    "problem = get_problem(\"mw5\")\n",
    "plot(problem.pareto_front(), no_fill=True)"
   ]
  },
  {
   "cell_type": "markdown",
   "metadata": {},
   "source": [
    "### MW6"
   ]
  },
  {
   "cell_type": "code",
   "execution_count": null,
   "metadata": {
    "execution": {
     "iopub.execute_input": "2022-07-29T18:29:34.635258Z",
     "iopub.status.busy": "2022-07-29T18:29:34.634936Z",
     "iopub.status.idle": "2022-07-29T18:29:34.771132Z",
     "shell.execute_reply": "2022-07-29T18:29:34.770415Z"
    }
   },
   "outputs": [],
   "source": [
    "problem = get_problem(\"mw6\")\n",
    "plot(problem.pareto_front(), no_fill=True)"
   ]
  },
  {
   "cell_type": "markdown",
   "metadata": {},
   "source": [
    "### MW7"
   ]
  },
  {
   "cell_type": "code",
   "execution_count": null,
   "metadata": {
    "execution": {
     "iopub.execute_input": "2022-07-29T18:29:34.774720Z",
     "iopub.status.busy": "2022-07-29T18:29:34.774416Z",
     "iopub.status.idle": "2022-07-29T18:29:34.939585Z",
     "shell.execute_reply": "2022-07-29T18:29:34.938799Z"
    }
   },
   "outputs": [],
   "source": [
    "problem = get_problem(\"mw7\")\n",
    "plot(problem.pareto_front(), no_fill=True)"
   ]
  },
  {
   "cell_type": "markdown",
   "metadata": {},
   "source": [
    "### MW8"
   ]
  },
  {
   "cell_type": "code",
   "execution_count": null,
   "metadata": {
    "execution": {
     "iopub.execute_input": "2022-07-29T18:29:34.943150Z",
     "iopub.status.busy": "2022-07-29T18:29:34.942648Z",
     "iopub.status.idle": "2022-07-29T18:29:35.172517Z",
     "shell.execute_reply": "2022-07-29T18:29:35.171775Z"
    },
    "tags": []
   },
   "outputs": [],
   "source": [
    "ref_dirs = get_reference_directions(\"das-dennis\", 3, n_partitions=12)\n",
    "pf = get_problem(\"mw8\").pareto_front(ref_dirs)\n",
    "Scatter(angle=(45,45)).add(pf, color=\"red\").show()"
   ]
  },
  {
   "cell_type": "markdown",
   "metadata": {},
   "source": [
    "### MW9"
   ]
  },
  {
   "cell_type": "code",
   "execution_count": null,
   "metadata": {
    "execution": {
     "iopub.execute_input": "2022-07-29T18:29:35.176792Z",
     "iopub.status.busy": "2022-07-29T18:29:35.176484Z",
     "iopub.status.idle": "2022-07-29T18:29:35.342253Z",
     "shell.execute_reply": "2022-07-29T18:29:35.341543Z"
    }
   },
   "outputs": [],
   "source": [
    "problem = get_problem(\"mw9\")\n",
    "plot(problem.pareto_front(), no_fill=True)"
   ]
  },
  {
   "cell_type": "markdown",
   "metadata": {},
   "source": [
    "### MW10"
   ]
  },
  {
   "cell_type": "code",
   "execution_count": null,
   "metadata": {
    "execution": {
     "iopub.execute_input": "2022-07-29T18:29:35.345910Z",
     "iopub.status.busy": "2022-07-29T18:29:35.345482Z",
     "iopub.status.idle": "2022-07-29T18:29:35.519984Z",
     "shell.execute_reply": "2022-07-29T18:29:35.519245Z"
    }
   },
   "outputs": [],
   "source": [
    "problem = get_problem(\"mw10\")\n",
    "plot(problem.pareto_front(), no_fill=True)"
   ]
  },
  {
   "cell_type": "markdown",
   "metadata": {},
   "source": [
    "### MW11"
   ]
  },
  {
   "cell_type": "code",
   "execution_count": null,
   "metadata": {
    "execution": {
     "iopub.execute_input": "2022-07-29T18:29:35.524059Z",
     "iopub.status.busy": "2022-07-29T18:29:35.523708Z",
     "iopub.status.idle": "2022-07-29T18:29:35.728357Z",
     "shell.execute_reply": "2022-07-29T18:29:35.727557Z"
    }
   },
   "outputs": [],
   "source": [
    "problem = get_problem(\"mw11\")\n",
    "plot(problem.pareto_front(), no_fill=True)"
   ]
  },
  {
   "cell_type": "markdown",
   "metadata": {},
   "source": [
    "### MW12"
   ]
  },
  {
   "cell_type": "code",
   "execution_count": null,
   "metadata": {
    "execution": {
     "iopub.execute_input": "2022-07-29T18:29:35.731818Z",
     "iopub.status.busy": "2022-07-29T18:29:35.731524Z",
     "iopub.status.idle": "2022-07-29T18:29:35.896012Z",
     "shell.execute_reply": "2022-07-29T18:29:35.894818Z"
    }
   },
   "outputs": [],
   "source": [
    "problem = get_problem(\"mw12\")\n",
    "plot(problem.pareto_front(), no_fill=True)"
   ]
  },
  {
   "cell_type": "markdown",
   "metadata": {},
   "source": [
    "### MW13"
   ]
  },
  {
   "cell_type": "code",
   "execution_count": null,
   "metadata": {
    "execution": {
     "iopub.execute_input": "2022-07-29T18:29:35.900083Z",
     "iopub.status.busy": "2022-07-29T18:29:35.899738Z",
     "iopub.status.idle": "2022-07-29T18:29:36.072696Z",
     "shell.execute_reply": "2022-07-29T18:29:36.071943Z"
    }
   },
   "outputs": [],
   "source": [
    "problem = get_problem(\"mw13\")\n",
    "plot(problem.pareto_front(), no_fill=True)"
   ]
  },
  {
   "cell_type": "markdown",
   "metadata": {},
   "source": [
    "### MW14"
   ]
  },
  {
   "cell_type": "code",
   "execution_count": null,
   "metadata": {
    "execution": {
     "iopub.execute_input": "2022-07-29T18:29:36.076798Z",
     "iopub.status.busy": "2022-07-29T18:29:36.076195Z",
     "iopub.status.idle": "2022-07-29T18:29:36.433305Z",
     "shell.execute_reply": "2022-07-29T18:29:36.432567Z"
    },
    "tags": []
   },
   "outputs": [],
   "source": [
    "ref_dirs = get_reference_directions(\"das-dennis\", 3, n_partitions=12)\n",
    "pf = get_problem(\"mw14\").pareto_front()\n",
    "Scatter(angle=(45,45)).add(pf, color=\"red\").show()"
   ]
  },
  {
   "cell_type": "markdown",
   "metadata": {},
   "source": [
    "<sub>Python implementation by [cyrilpic](https://github.com/cyrilpic) based on the [original C++ code](http://www.escience.cn/people/yongwang1/index.html).</sub>"
   ]
  }
 ],
 "metadata": {
  "kernelspec": {
   "display_name": "Python 3",
   "language": "python",
   "name": "python3"
  },
  "language_info": {
   "codemirror_mode": {
    "name": "ipython",
    "version": 3
   },
   "file_extension": ".py",
   "mimetype": "text/x-python",
   "name": "python",
   "nbconvert_exporter": "python",
   "pygments_lexer": "ipython3",
   "version": "3.10.5"
  }
 },
 "nbformat": 4,
 "nbformat_minor": 4
}
