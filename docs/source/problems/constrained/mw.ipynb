{
 "cells": [
  {
   "cell_type": "raw",
   "metadata": {
    "raw_mimetype": "text/restructuredtext"
   },
   "source": [
    ".. _nb_mw:"
   ]
  },
  {
   "cell_type": "markdown",
   "metadata": {},
   "source": [
    "## MW\n",
    "\n",
    "MW <cite data-cite=\"mw\"></cite> is a constrained multi-objective test suite constructed in a similar fashion to CTP or WFG with 3 different distance functions and 3 local adjustment methods. Most problems are biobjective problems, except MW4, MW8 and MW14 which are scalable ($m \\geq 3$).\n",
    "\n",
    "They aim at replacing the CTP test suite by proposing more complex problems with up to 4 inequality constraints."
   ]
  },
  {
   "cell_type": "code",
   "execution_count": null,
   "metadata": {
    "execution": {
     "iopub.execute_input": "2022-07-30T17:32:23.458151Z",
     "iopub.status.busy": "2022-07-30T17:32:23.457752Z",
     "iopub.status.idle": "2022-07-30T17:32:23.554681Z",
     "shell.execute_reply": "2022-07-30T17:32:23.553589Z"
    }
   },
   "outputs": [],
   "source": [
    "from pymoo.problems import get_problem\n",
    "from pymoo.util.plotting import plot\n",
    "from pymoo.problems import get_problem\n",
    "from pymoo.util.ref_dirs import get_reference_directions\n",
    "from pymoo.visualization.scatter import Scatter"
   ]
  },
  {
   "cell_type": "raw",
   "metadata": {
    "raw_mimetype": "text/restructuredtext"
   },
   "source": [
    ".. _nb_mw1:"
   ]
  },
  {
   "cell_type": "markdown",
   "metadata": {},
   "source": [
    "### MW1"
   ]
  },
  {
   "cell_type": "code",
   "execution_count": null,
   "metadata": {
    "code": "usage_problem.py",
    "execution": {
     "iopub.execute_input": "2022-07-30T17:32:23.559797Z",
     "iopub.status.busy": "2022-07-30T17:32:23.559432Z",
     "iopub.status.idle": "2022-07-30T17:32:23.751689Z",
     "shell.execute_reply": "2022-07-30T17:32:23.750452Z"
    },
    "section": "zdt1",
    "tags": []
   },
   "outputs": [],
   "source": [
    "\n",
    "\n",
    "problem = get_problem(\"mw1\")\n",
    "plot(problem.pareto_front(), no_fill=True)"
   ]
  },
  {
   "cell_type": "markdown",
   "metadata": {},
   "source": [
    "### MW2"
   ]
  },
  {
   "cell_type": "code",
   "execution_count": null,
   "metadata": {
    "execution": {
     "iopub.execute_input": "2022-07-30T17:32:23.758601Z",
     "iopub.status.busy": "2022-07-30T17:32:23.757904Z",
     "iopub.status.idle": "2022-07-30T17:32:23.958557Z",
     "shell.execute_reply": "2022-07-30T17:32:23.957738Z"
    }
   },
   "outputs": [],
   "source": [
    "problem = get_problem(\"mw2\")\n",
    "plot(problem.pareto_front(), no_fill=True)"
   ]
  },
  {
   "cell_type": "markdown",
   "metadata": {},
   "source": [
    "### MW3"
   ]
  },
  {
   "cell_type": "code",
   "execution_count": null,
   "metadata": {
    "execution": {
     "iopub.execute_input": "2022-07-30T17:32:23.962233Z",
     "iopub.status.busy": "2022-07-30T17:32:23.961785Z",
     "iopub.status.idle": "2022-07-30T17:32:24.096821Z",
     "shell.execute_reply": "2022-07-30T17:32:24.096009Z"
    }
   },
   "outputs": [],
   "source": [
    "problem = get_problem(\"mw3\")\n",
    "plot(problem.pareto_front(), no_fill=True)"
   ]
  },
  {
   "cell_type": "markdown",
   "metadata": {},
   "source": [
    "### MW4"
   ]
  },
  {
   "cell_type": "code",
   "execution_count": null,
   "metadata": {
    "execution": {
     "iopub.execute_input": "2022-07-30T17:32:24.101426Z",
     "iopub.status.busy": "2022-07-30T17:32:24.101041Z",
     "iopub.status.idle": "2022-07-30T17:32:24.475567Z",
     "shell.execute_reply": "2022-07-30T17:32:24.474885Z"
    },
    "tags": []
   },
   "outputs": [],
   "source": [
    "ref_dirs = get_reference_directions(\"das-dennis\", 3, n_partitions=12)\n",
    "pf = get_problem(\"mw4\").pareto_front(ref_dirs)\n",
    "Scatter(angle=(45,45)).add(pf, color=\"red\").show()"
   ]
  },
  {
   "cell_type": "markdown",
   "metadata": {},
   "source": [
    "### MW5"
   ]
  },
  {
   "cell_type": "code",
   "execution_count": null,
   "metadata": {
    "execution": {
     "iopub.execute_input": "2022-07-30T17:32:24.480524Z",
     "iopub.status.busy": "2022-07-30T17:32:24.479923Z",
     "iopub.status.idle": "2022-07-30T17:32:24.624984Z",
     "shell.execute_reply": "2022-07-30T17:32:24.624193Z"
    }
   },
   "outputs": [],
   "source": [
    "problem = get_problem(\"mw5\")\n",
    "plot(problem.pareto_front(), no_fill=True)"
   ]
  },
  {
   "cell_type": "markdown",
   "metadata": {},
   "source": [
    "### MW6"
   ]
  },
  {
   "cell_type": "code",
   "execution_count": null,
   "metadata": {
    "execution": {
     "iopub.execute_input": "2022-07-30T17:32:24.629343Z",
     "iopub.status.busy": "2022-07-30T17:32:24.628855Z",
     "iopub.status.idle": "2022-07-30T17:32:24.787656Z",
     "shell.execute_reply": "2022-07-30T17:32:24.786777Z"
    }
   },
   "outputs": [],
   "source": [
    "problem = get_problem(\"mw6\")\n",
    "plot(problem.pareto_front(), no_fill=True)"
   ]
  },
  {
   "cell_type": "markdown",
   "metadata": {},
   "source": [
    "### MW7"
   ]
  },
  {
   "cell_type": "code",
   "execution_count": null,
   "metadata": {
    "execution": {
     "iopub.execute_input": "2022-07-30T17:32:24.791741Z",
     "iopub.status.busy": "2022-07-30T17:32:24.791427Z",
     "iopub.status.idle": "2022-07-30T17:32:24.971762Z",
     "shell.execute_reply": "2022-07-30T17:32:24.970551Z"
    }
   },
   "outputs": [],
   "source": [
    "problem = get_problem(\"mw7\")\n",
    "plot(problem.pareto_front(), no_fill=True)"
   ]
  },
  {
   "cell_type": "markdown",
   "metadata": {},
   "source": [
    "### MW8"
   ]
  },
  {
   "cell_type": "code",
   "execution_count": null,
   "metadata": {
    "execution": {
     "iopub.execute_input": "2022-07-30T17:32:24.976958Z",
     "iopub.status.busy": "2022-07-30T17:32:24.976502Z",
     "iopub.status.idle": "2022-07-30T17:32:25.217086Z",
     "shell.execute_reply": "2022-07-30T17:32:25.216398Z"
    },
    "tags": []
   },
   "outputs": [],
   "source": [
    "ref_dirs = get_reference_directions(\"das-dennis\", 3, n_partitions=12)\n",
    "pf = get_problem(\"mw8\").pareto_front(ref_dirs)\n",
    "Scatter(angle=(45,45)).add(pf, color=\"red\").show()"
   ]
  },
  {
   "cell_type": "markdown",
   "metadata": {},
   "source": [
    "### MW9"
   ]
  },
  {
   "cell_type": "code",
   "execution_count": null,
   "metadata": {
    "execution": {
     "iopub.execute_input": "2022-07-30T17:32:25.221381Z",
     "iopub.status.busy": "2022-07-30T17:32:25.221118Z",
     "iopub.status.idle": "2022-07-30T17:32:25.371816Z",
     "shell.execute_reply": "2022-07-30T17:32:25.371067Z"
    }
   },
   "outputs": [],
   "source": [
    "problem = get_problem(\"mw9\")\n",
    "plot(problem.pareto_front(), no_fill=True)"
   ]
  },
  {
   "cell_type": "markdown",
   "metadata": {},
   "source": [
    "### MW10"
   ]
  },
  {
   "cell_type": "code",
   "execution_count": null,
   "metadata": {
    "execution": {
     "iopub.execute_input": "2022-07-30T17:32:25.375511Z",
     "iopub.status.busy": "2022-07-30T17:32:25.375237Z",
     "iopub.status.idle": "2022-07-30T17:32:25.528739Z",
     "shell.execute_reply": "2022-07-30T17:32:25.527859Z"
    }
   },
   "outputs": [],
   "source": [
    "problem = get_problem(\"mw10\")\n",
    "plot(problem.pareto_front(), no_fill=True)"
   ]
  },
  {
   "cell_type": "markdown",
   "metadata": {},
   "source": [
    "### MW11"
   ]
  },
  {
   "cell_type": "code",
   "execution_count": null,
   "metadata": {
    "execution": {
     "iopub.execute_input": "2022-07-30T17:32:25.533018Z",
     "iopub.status.busy": "2022-07-30T17:32:25.532226Z",
     "iopub.status.idle": "2022-07-30T17:32:25.746343Z",
     "shell.execute_reply": "2022-07-30T17:32:25.745574Z"
    }
   },
   "outputs": [],
   "source": [
    "problem = get_problem(\"mw11\")\n",
    "plot(problem.pareto_front(), no_fill=True)"
   ]
  },
  {
   "cell_type": "markdown",
   "metadata": {},
   "source": [
    "### MW12"
   ]
  },
  {
   "cell_type": "code",
   "execution_count": null,
   "metadata": {
    "execution": {
     "iopub.execute_input": "2022-07-30T17:32:25.750022Z",
     "iopub.status.busy": "2022-07-30T17:32:25.749755Z",
     "iopub.status.idle": "2022-07-30T17:32:25.903884Z",
     "shell.execute_reply": "2022-07-30T17:32:25.902901Z"
    }
   },
   "outputs": [],
   "source": [
    "problem = get_problem(\"mw12\")\n",
    "plot(problem.pareto_front(), no_fill=True)"
   ]
  },
  {
   "cell_type": "markdown",
   "metadata": {},
   "source": [
    "### MW13"
   ]
  },
  {
   "cell_type": "code",
   "execution_count": null,
   "metadata": {
    "execution": {
     "iopub.execute_input": "2022-07-30T17:32:25.907887Z",
     "iopub.status.busy": "2022-07-30T17:32:25.907421Z",
     "iopub.status.idle": "2022-07-30T17:32:26.068827Z",
     "shell.execute_reply": "2022-07-30T17:32:26.067973Z"
    }
   },
   "outputs": [],
   "source": [
    "problem = get_problem(\"mw13\")\n",
    "plot(problem.pareto_front(), no_fill=True)"
   ]
  },
  {
   "cell_type": "markdown",
   "metadata": {},
   "source": [
    "### MW14"
   ]
  },
  {
   "cell_type": "code",
   "execution_count": null,
   "metadata": {
    "execution": {
     "iopub.execute_input": "2022-07-30T17:32:26.073677Z",
     "iopub.status.busy": "2022-07-30T17:32:26.073317Z",
     "iopub.status.idle": "2022-07-30T17:32:26.393455Z",
     "shell.execute_reply": "2022-07-30T17:32:26.392808Z"
    },
    "tags": []
   },
   "outputs": [],
   "source": [
    "ref_dirs = get_reference_directions(\"das-dennis\", 3, n_partitions=12)\n",
    "pf = get_problem(\"mw14\").pareto_front()\n",
    "Scatter(angle=(45,45)).add(pf, color=\"red\").show()"
   ]
  },
  {
   "cell_type": "markdown",
   "metadata": {},
   "source": [
    "<sub>Python implementation by [cyrilpic](https://github.com/cyrilpic) based on the [original C++ code](http://www.escience.cn/people/yongwang1/index.html).</sub>"
   ]
  }
 ],
 "metadata": {
  "kernelspec": {
   "display_name": "Python 3",
   "language": "python",
   "name": "python3"
  },
  "language_info": {
   "codemirror_mode": {
    "name": "ipython",
    "version": 3
   },
   "file_extension": ".py",
   "mimetype": "text/x-python",
   "name": "python",
   "nbconvert_exporter": "python",
   "pygments_lexer": "ipython3",
   "version": "3.10.5"
  }
 },
 "nbformat": 4,
 "nbformat_minor": 4
}
