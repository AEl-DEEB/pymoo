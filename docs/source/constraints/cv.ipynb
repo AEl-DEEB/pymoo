{
 "cells": [
  {
   "cell_type": "raw",
   "id": "c23dfa57-d50b-4b8a-bfa3-917993a5a7ad",
   "metadata": {
    "raw_mimetype": "text/restructuredtext"
   },
   "source": [
    ".. _nb_constraints_violation:"
   ]
  },
  {
   "cell_type": "markdown",
   "id": "8b7fb976-5e36-4943-968e-8b5d58a33d5d",
   "metadata": {},
   "source": [
    "## Constraint Violation (CV)"
   ]
  },
  {
   "cell_type": "code",
   "execution_count": null,
   "id": "25f6f2ef-eaef-42f6-9e63-f175d25f56a4",
   "metadata": {},
   "outputs": [],
   "source": []
  },
  {
   "cell_type": "code",
   "execution_count": 2,
   "id": "5fedc453-09ec-48d9-ae1b-754fd91b9aa1",
   "metadata": {},
   "outputs": [
    {
     "data": {
      "text/plain": [
       "4"
      ]
     },
     "execution_count": 2,
     "metadata": {},
     "output_type": "execute_result"
    }
   ],
   "source": [
    "2+2"
   ]
  },
  {
   "cell_type": "code",
   "execution_count": null,
   "id": "926126d2-ada6-4252-9302-3fb2165cf0d4",
   "metadata": {},
   "outputs": [],
   "source": []
  }
 ],
 "metadata": {
  "kernelspec": {
   "display_name": "Python 3 (ipykernel)",
   "language": "python",
   "name": "python3"
  },
  "language_info": {
   "codemirror_mode": {
    "name": "ipython",
    "version": 3
   },
   "file_extension": ".py",
   "mimetype": "text/x-python",
   "name": "python",
   "nbconvert_exporter": "python",
   "pygments_lexer": "ipython3",
   "version": "3.9.12"
  }
 },
 "nbformat": 4,
 "nbformat_minor": 5
}
