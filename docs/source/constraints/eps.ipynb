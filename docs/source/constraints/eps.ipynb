{
 "cells": [
  {
   "cell_type": "raw",
   "metadata": {
    "raw_mimetype": "text/restructuredtext"
   },
   "source": [
    ".. _nb_constraints_eps:"
   ]
  },
  {
   "cell_type": "code",
   "execution_count": 1,
   "metadata": {
    "execution": {
     "iopub.execute_input": "2022-07-03T13:27:50.289097Z",
     "iopub.status.busy": "2022-07-03T13:27:50.288333Z",
     "iopub.status.idle": "2022-07-03T13:27:50.787597Z",
     "shell.execute_reply": "2022-07-03T13:27:50.786943Z"
    },
    "nbsphinx": "hidden",
    "tags": []
   },
   "outputs": [],
   "source": [
    "%%capture\n",
    "%run ./index.ipynb"
   ]
  },
  {
   "cell_type": "markdown",
   "metadata": {},
   "source": [
    "### Constraints As Objective"
   ]
  },
  {
   "cell_type": "code",
   "execution_count": 2,
   "metadata": {
    "execution": {
     "iopub.execute_input": "2022-07-03T13:27:50.792272Z",
     "iopub.status.busy": "2022-07-03T13:27:50.791818Z",
     "iopub.status.idle": "2022-07-03T13:28:04.372938Z",
     "shell.execute_reply": "2022-07-03T13:28:04.372174Z"
    }
   },
   "outputs": [
    {
     "name": "stdout",
     "output_type": "stream",
     "text": [
      "Best solution found: \n",
      "X = [0.9999975  0.99991586 0.99995368 0.99993331 0.99993838 0.99992354\n",
      " 0.99977033 0.99990237 0.9999979  2.99956862 2.99953873 2.99935618\n",
      " 0.99998701]\n",
      "F = [-14.99698489]\n",
      "CV = [0.]\n"
     ]
    }
   ],
   "source": [
    "from pymoo.algorithms.soo.nonconvex.de import DE\n",
    "from pymoo.constraints.eps import AdaptiveEpsilonConstraintHandling\n",
    "from pymoo.optimize import minimize\n",
    "from pymoo.problems.single import G1\n",
    "\n",
    "problem = G1()\n",
    "\n",
    "algorithm = AdaptiveEpsilonConstraintHandling(DE())\n",
    "\n",
    "res = minimize(problem,\n",
    "               algorithm,\n",
    "               ('n_gen', 200),\n",
    "               seed=1,\n",
    "               verbose=False)\n",
    "\n",
    "print(\"Best solution found: \\nX = %s\\nF = %s\\nCV = %s\" % (res.X, res.F, res.CV))"
   ]
  }
 ],
 "metadata": {
  "kernelspec": {
   "display_name": "Python 3 (ipykernel)",
   "language": "python",
   "name": "python3"
  },
  "language_info": {
   "codemirror_mode": {
    "name": "ipython",
    "version": 3
   },
   "file_extension": ".py",
   "mimetype": "text/x-python",
   "name": "python",
   "nbconvert_exporter": "python",
   "pygments_lexer": "ipython3",
   "version": "3.9.12"
  }
 },
 "nbformat": 4,
 "nbformat_minor": 4
}
