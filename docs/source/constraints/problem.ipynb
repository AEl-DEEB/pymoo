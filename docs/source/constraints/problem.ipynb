{
 "cells": [
  {
   "cell_type": "raw",
   "id": "c23dfa57-d50b-4b8a-bfa3-917993a5a7ad",
   "metadata": {
    "raw_mimetype": "text/restructuredtext"
   },
   "source": [
    ".. _nb_constraints_problem:"
   ]
  },
  {
   "cell_type": "markdown",
   "id": "e7d6f7de-9364-4ad1-a88a-6888fbb358c3",
   "metadata": {},
   "source": [
    "## Constrained Problem"
   ]
  }
 ],
 "metadata": {
  "kernelspec": {
   "display_name": "Python 3 (ipykernel)",
   "language": "python",
   "name": "python3"
  },
  "language_info": {
   "codemirror_mode": {
    "name": "ipython",
    "version": 3
   },
   "file_extension": ".py",
   "mimetype": "text/x-python",
   "name": "python",
   "nbconvert_exporter": "python",
   "pygments_lexer": "ipython3",
   "version": "3.10.5"
  }
 },
 "nbformat": 4,
 "nbformat_minor": 5
}
