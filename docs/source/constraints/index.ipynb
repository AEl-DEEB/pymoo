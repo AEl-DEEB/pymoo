{
 "cells": [
  {
   "cell_type": "raw",
   "metadata": {
    "raw_mimetype": "text/restructuredtext"
   },
   "source": [
    ".. _nb_constraints:"
   ]
  },
  {
   "cell_type": "markdown",
   "metadata": {},
   "source": [
    "## Constraint Handling"
   ]
  },
  {
   "cell_type": "raw",
   "metadata": {
    "raw_mimetype": "text/restructuredtext"
   },
   "source": [
    "\n",
    ".. toctree::\n",
    "   :maxdepth: 1\n",
    "   :hidden:\n",
    "   \n",
    "   as_penalty.ipynb\n",
    "   as_obj.ipynb\n",
    "   eps.ipynb\n",
    "   \n"
   ]
  },
  {
   "cell_type": "markdown",
   "metadata": {},
   "source": [
    "Constraint Handling is essential for solving a real-world optimization problem. Different ways have been proposed in literature to deal with inequality and equality constraints during optimization. A few ways shal be described in this tutorial to give users of *pymoo* a starting point for how to solve optimization problems with constraints."
   ]
  },
  {
   "cell_type": "raw",
   "metadata": {
    "raw_mimetype": "text/restructuredtext"
   },
   "source": [
    ".. admonition:: Overview\n",
    "    :class: myOwnStyle\n",
    "\n",
    "    - `Constrained Problem <static.ipynb>`_: \n",
    "   \n",
    "    - `Normalization <as_obj.ipynb>`_: \n",
    "    \n",
    "    - `Approaches <as_obj.ipynb>`_: \n",
    "    \n",
    "\n",
    "        - `Static Penalty <static.ipynb>`_: The optimization problem is redefined by adding a penatly to the objective valuees. This results in an unconstraint problem to be solved which allows to use solvers not being able to handle constraints originally.\n",
    "\n",
    "        - `Constraint Violation As Objective <as_obj.ipynb>`_: Another way of considering constraints is interpreting the total constraint violation (an aggregation of all constraints) as an additional objective. This results in a multi-objective problem with one more objective to be solved.\n",
    "\n",
    "        - `Feasibility First Comparison <feas_first.ipynb>`_: \n",
    "\n",
    "        - `eps-Costraint Handling' <eps_constr.ipynb>`_: \n",
    "\n",
    "        - `Repair Operator' <constr_repair.ipynb>`_: "
   ]
  },
  {
   "cell_type": "markdown",
   "metadata": {},
   "source": [
    "In these tutorials, we are going to have a look at the following constrained single-objective optimization problem:"
   ]
  },
  {
   "cell_type": "code",
   "execution_count": 2,
   "metadata": {},
   "outputs": [],
   "source": [
    "import numpy as np\n",
    "from pymoo.core.problem import Problem\n",
    "\n",
    "class ConstrainedProblem(Problem):\n",
    "\n",
    "    def __init__(self, **kwargs):\n",
    "        super().__init__(n_var=5, n_obj=1, n_ieq_constr=2, n_eq_constr=2, xl=0, xu=1, **kwargs)\n",
    "\n",
    "    def _evaluate(self, x, out, *args, **kwargs):\n",
    "        out[\"F\"] = (x ** 2).sum(axis=1)\n",
    "        \n",
    "        g1 = 0.25 - x[:, 2] ** 2\n",
    "        g2 = 0.25 - x[:, 3] ** 2\n",
    "        out[\"G\"] = np.column_stack([g1, g2])\n",
    "\n",
    "        h1 = x[:, 1] - x[:, 0]\n",
    "        h2 = x[:, 1] + x[:, 0] - 1\n",
    "        out[\"H\"] = np.column_stack([h1, h2])\n",
    "\n",
    "        \n",
    "problem = ConstrainedProblem()"
   ]
  },
  {
   "cell_type": "markdown",
   "metadata": {},
   "source": [
    "The equality constraints are only satisfied if $x_1=0.5$ and $x_2=0.5$ holds. The inequality constraints provide a lower bound for $x_3$ and $x_4$ to be $0.5$ to be feasible. Finally, $x_5$ serves as the convergence variable supposed to be as small as possible bounded.\n",
    "\n",
    "The optimal solution is given by: $x^{(opt)} = (0.5, 0.5, 0.5, 0.5, 0.0)$ with an objective value $f(x^{(opt)}) = 1.0$"
   ]
  },
  {
   "cell_type": "markdown",
   "metadata": {},
   "source": [
    "Whenever different values are aggregated, normalization can be helpful to make the aggregation less biased and more meaningful. Especially when some constraints have entirely different scalings it can be helpful to first rescale them."
   ]
  }
 ],
 "metadata": {
  "kernelspec": {
   "display_name": "Python 3",
   "language": "python",
   "name": "python3"
  },
  "language_info": {
   "codemirror_mode": {
    "name": "ipython",
    "version": 3
   },
   "file_extension": ".py",
   "mimetype": "text/x-python",
   "name": "python",
   "nbconvert_exporter": "python",
   "pygments_lexer": "ipython3",
   "version": "3.8.8"
  }
 },
 "nbformat": 4,
 "nbformat_minor": 4
}
