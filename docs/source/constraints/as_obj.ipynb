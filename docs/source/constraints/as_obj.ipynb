{
 "cells": [
  {
   "cell_type": "raw",
   "metadata": {
    "raw_mimetype": "text/restructuredtext"
   },
   "source": [
    ".. _nb_feas_first:"
   ]
  },
  {
   "cell_type": "code",
   "execution_count": null,
   "metadata": {
    "execution": {
     "iopub.execute_input": "2022-07-30T17:23:22.651551Z",
     "iopub.status.busy": "2022-07-30T17:23:22.650998Z",
     "iopub.status.idle": "2022-07-30T17:23:23.529906Z",
     "shell.execute_reply": "2022-07-30T17:23:23.529014Z"
    },
    "nbsphinx": "hidden",
    "tags": []
   },
   "outputs": [],
   "source": [
    "%%capture\n",
    "%run ./index.ipynb"
   ]
  },
  {
   "cell_type": "markdown",
   "metadata": {},
   "source": [
    "### Constraint Violation (CV) As Objective"
   ]
  },
  {
   "cell_type": "markdown",
   "metadata": {},
   "source": [
    "Another way of dealing with constraints is putting them into one of the objectives instead. Then, the goal is not only to find solutions that satisfy all constraints but also provide some trade-off of how much better performance one can achieve when relaxing the constraint a little bit. This can be helpful information for post-processing. Another advantage of this approach is that it is more robust against diversity loss. However, it is worth noting that this method might spend many function evaluations on infeasible solutions that might not be of interest. Moreover, if not the exact boundary solution is found, where the first objective (cv) is minimized, the best solution might still be slightly infeasible."
   ]
  },
  {
   "cell_type": "code",
   "execution_count": null,
   "metadata": {
    "execution": {
     "iopub.execute_input": "2022-07-30T17:23:23.533945Z",
     "iopub.status.busy": "2022-07-30T17:23:23.533639Z",
     "iopub.status.idle": "2022-07-30T17:23:26.547375Z",
     "shell.execute_reply": "2022-07-30T17:23:26.546548Z"
    },
    "tags": []
   },
   "outputs": [],
   "source": [
    "from pymoo.algorithms.moo.nsga2 import NSGA2\n",
    "from pymoo.constraints.as_obj import ConstraintsAsObjective\n",
    "from pymoo.optimize import minimize\n",
    "from pymoo.problems.single import G1\n",
    "from pymoo.visualization.scatter import Scatter\n",
    "\n",
    "problem = G1()\n",
    "\n",
    "problem = ConstrainedProblem()\n",
    "\n",
    "algorithm = NSGA2(pop_size=100)\n",
    "\n",
    "res = minimize(ConstraintsAsObjective(problem),\n",
    "               algorithm,\n",
    "               ('n_gen', 300),\n",
    "               seed=1,\n",
    "               verbose=False)\n",
    "\n",
    "plot = Scatter()\n",
    "plot.add(problem.pareto_front(), marker=\"*\", color=\"black\", alpha=0.7, s=100)\n",
    "plot.add(res.F, facecolor=\"none\", edgecolor=\"red\")\n",
    "plot.show()"
   ]
  },
  {
   "cell_type": "markdown",
   "metadata": {},
   "source": [
    "Finally, the least infeasible solution can then be obtained by:"
   ]
  },
  {
   "cell_type": "code",
   "execution_count": null,
   "metadata": {
    "execution": {
     "iopub.execute_input": "2022-07-30T17:23:26.551423Z",
     "iopub.status.busy": "2022-07-30T17:23:26.551119Z",
     "iopub.status.idle": "2022-07-30T17:23:26.557266Z",
     "shell.execute_reply": "2022-07-30T17:23:26.556375Z"
    }
   },
   "outputs": [],
   "source": [
    "from pymoo.core.evaluator import Evaluator\n",
    "from pymoo.core.individual import Individual\n",
    "\n",
    "cv = res.F[:, 0]\n",
    "least_infeas = cv.argmin()\n",
    "x = res.X[least_infeas]\n",
    "\n",
    "sol = Individual(X=x)\n",
    "Evaluator().eval(problem, sol)\n",
    "\n",
    "print(\"Best solution found: \\nX = %s\\nF = %s\\nCV = %s\" % (sol.X, sol.F, sol.CV))"
   ]
  }
 ],
 "metadata": {
  "kernelspec": {
   "display_name": "Python 3",
   "language": "python",
   "name": "python3"
  },
  "language_info": {
   "codemirror_mode": {
    "name": "ipython",
    "version": 3
   },
   "file_extension": ".py",
   "mimetype": "text/x-python",
   "name": "python",
   "nbconvert_exporter": "python",
   "pygments_lexer": "ipython3",
   "version": "3.10.5"
  }
 },
 "nbformat": 4,
 "nbformat_minor": 4
}
