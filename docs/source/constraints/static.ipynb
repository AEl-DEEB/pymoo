{
 "cells": [
  {
   "cell_type": "raw",
   "metadata": {
    "raw_mimetype": "text/restructuredtext"
   },
   "source": [
    ".. _nb_constraints_static_penalty:"
   ]
  },
  {
   "cell_type": "code",
   "execution_count": null,
   "metadata": {
    "nbsphinx": "hidden",
    "tags": []
   },
   "outputs": [],
   "source": [
    "%%capture\n",
    "%run ./index.ipynb"
   ]
  },
  {
   "cell_type": "markdown",
   "metadata": {},
   "source": [
    "### Static Penalty"
   ]
  },
  {
   "cell_type": "markdown",
   "metadata": {},
   "source": [
    "When using a penalty-based approach, then values with possibly different scales are aggregated. Thus, bringing the objectives and constraints to the same scale is recommended to create a meaningful new optimization problem. The scale of the constraints has already been discussed in [here](index.ipynb). The scaling of the objective is shown below:"
   ]
  },
  {
   "cell_type": "code",
   "execution_count": null,
   "metadata": {},
   "outputs": [],
   "source": [
    "from pymoo.constraints.tcv import TotalConstraintViolation\n",
    "\n",
    "tcv = TotalConstraintViolation(ieq_eps=0.0,\n",
    "                               ieq_pow=1.0,\n",
    "                               ieq_scale=ieq_scale,\n",
    "                               eq_eps=0.0,\n",
    "                               eq_pow=None,\n",
    "                               eq_scale=eq_scale,\n",
    "                               aggr_func=np.mean)"
   ]
  },
  {
   "cell_type": "markdown",
   "metadata": {},
   "source": [
    "Placeholder"
   ]
  },
  {
   "cell_type": "code",
   "execution_count": null,
   "metadata": {},
   "outputs": [],
   "source": [
    "# extract inequality and equality constraints\n",
    "F = sample.get(\"F\")\n",
    "\n",
    "# we also need to scale the objective\n",
    "f_scale = np.max(F) - np.min(F)\n",
    "\n",
    "# this can be tricky: the lowest objective value we think can be achieved\n",
    "f_ideal = 1.0"
   ]
  },
  {
   "cell_type": "markdown",
   "metadata": {},
   "source": [
    "Next, we define the actual optimization problem. *pymoo* already provides a problem class to define the penalty:"
   ]
  },
  {
   "cell_type": "code",
   "execution_count": null,
   "metadata": {},
   "outputs": [],
   "source": [
    "from pymoo.constraints.tcv import TotalConstraintViolation\n",
    "from pymoo.constraints.penalty import ConstraintsAsPenalty\n",
    "\n",
    "# the penalty factor - how much more does cv count in comparison to f\n",
    "penalty = 10.0\n",
    "\n",
    "penalty_problem = ConstraintsAsPenalty(problem, \n",
    "                                       tcv, \n",
    "                                       f_ideal=f_ideal, \n",
    "                                       f_scale=f_scale, \n",
    "                                       penalty=penalty)\n"
   ]
  },
  {
   "cell_type": "markdown",
   "metadata": {},
   "source": [
    "Then, we solve the unconstrained optmization problem using an optimizer:"
   ]
  },
  {
   "cell_type": "code",
   "execution_count": null,
   "metadata": {},
   "outputs": [],
   "source": [
    "from pymoo.algorithms.soo.nonconvex.de import DE\n",
    "from pymoo.optimize import minimize\n",
    "\n",
    "algorithm = DE(\n",
    "    pop_size=100,\n",
    "    sampling=LHS(),\n",
    "    variant=\"DE/rand/1/bin\",\n",
    "    CR=0.3,\n",
    "    dither=\"vector\",\n",
    "    jitter=False\n",
    ")\n",
    "\n",
    "res = minimize(penalty_problem,\n",
    "               algorithm,\n",
    "               seed=1,\n",
    "               verbose=False)"
   ]
  },
  {
   "cell_type": "markdown",
   "metadata": {},
   "source": [
    "The solution we have obtained is one of the unconstrained problems. There is no guarantee that this has indeed found a feasible solution to the original problem."
   ]
  },
  {
   "cell_type": "code",
   "execution_count": null,
   "metadata": {},
   "outputs": [],
   "source": [
    "from pymoo.core.individual import Individual\n",
    "opt = Individual(X=res.X)\n",
    "Evaluator().eval(problem, opt)\n",
    "\n",
    "print(\"Best solution found: \\nX = %s\\nF = %s\\nCV = %s\" % (opt.X, opt.F, opt.CV))"
   ]
  },
  {
   "cell_type": "markdown",
   "metadata": {},
   "source": [
    "The obtained solution seems to be slightly infeasible. This happens because the algorithm does not know feasible or infeasible solutions and just optimizes the combined objective function. Some more iterations on the original problem can help to make the obtained solution feasible."
   ]
  }
 ],
 "metadata": {
  "kernelspec": {
   "display_name": "Python 3",
   "language": "python",
   "name": "python3"
  },
  "language_info": {
   "codemirror_mode": {
    "name": "ipython",
    "version": 3
   },
   "file_extension": ".py",
   "mimetype": "text/x-python",
   "name": "python",
   "nbconvert_exporter": "python",
   "pygments_lexer": "ipython3",
   "version": "3.8.8"
  }
 },
 "nbformat": 4,
 "nbformat_minor": 4
}
