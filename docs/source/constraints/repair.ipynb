{
 "cells": [
  {
   "cell_type": "markdown",
   "id": "be5e07d8-23af-4361-9f4e-5982a8a1ab40",
   "metadata": {
    "tags": []
   },
   "source": [
    "## Repair Operator "
   ]
  },
  {
   "cell_type": "markdown",
   "id": "c985afe1-bad1-4689-a929-ae145f2d2bda",
   "metadata": {},
   "source": [
    "A simple approach is to handle constraints through a repair function. This is only possible if the equation of the constraint is known. The repair makes sure every solution that is evaluated is, in fact, feasible. Let us consider the following example where \n",
    "the equality constraints need to consider more than one variable:"
   ]
  },
  {
   "cell_type": "markdown",
   "id": "f93bb348-ca29-4559-95fb-fbfb1d1df374",
   "metadata": {},
   "source": [
    "\\begin{align} \n",
    "\\begin{split}\n",
    "\\min \\;\\; & f_1(x) = (x_1^2 + x_2^2) \\\\ \n",
    "\\max \\;\\; & f_2(x) = -(x_1-1)^2 - x_2^2 \\\\[1mm]\n",
    "\\text{s.t.} \\;\\; & g_1(x_1, x_3) : x_1 + x_3 = 2\\\\[2mm]\n",
    "& -2 \\leq x_1 \\leq 2 \\\\\n",
    "& -2 \\leq x_2 \\leq 2 \\\\\n",
    "& -2 \\leq x_3 \\leq 2\n",
    "\\end{split}\n",
    "\\end{align}"
   ]
  },
  {
   "cell_type": "markdown",
   "id": "1f60cea7-5e35-40b4-99bf-07c96b9733c6",
   "metadata": {},
   "source": [
    "We implement the problem using by squaring the term and using an $\\epsilon$ as we have explained above. The source code for the problem looks as follows:"
   ]
  },
  {
   "cell_type": "code",
   "execution_count": null,
   "id": "36bae003-3d87-4e23-a314-817352df6105",
   "metadata": {
    "execution": {
     "iopub.execute_input": "2021-09-14T16:18:01.793022Z",
     "iopub.status.busy": "2021-09-14T16:18:01.792227Z",
     "iopub.status.idle": "2021-09-14T16:18:01.793894Z",
     "shell.execute_reply": "2021-09-14T16:18:01.794313Z"
    }
   },
   "outputs": [],
   "source": [
    "import numpy as np\n",
    "\n",
    "from pymoo.core.problem import Problem\n",
    "\n",
    "\n",
    "class MyProblem(Problem):\n",
    "\n",
    "    def __init__(self):\n",
    "        super().__init__(n_var=3,\n",
    "                         n_obj=2,\n",
    "                         n_ieq_constr=1,\n",
    "                         xl=np.array([-2, -2, -2]),\n",
    "                         xu=np.array([2, 2, 2]))\n",
    "\n",
    "    def _evaluate(self, x, out, *args, **kwargs):\n",
    "        f1 = x[:, 0] ** 2 + x[:, 1] ** 2\n",
    "        f2 = (x[:, 0] - 1) ** 2 + x[:, 1] ** 2\n",
    "        g1 = (x[:, 0] + x[:, 2] - 2) ** 2 - 1e-5\n",
    "\n",
    "        out[\"F\"] = np.column_stack([f1, f2])\n",
    "        out[\"G\"] = g1\n"
   ]
  },
  {
   "cell_type": "markdown",
   "id": "04288c35-47ca-4a08-9be4-6bad43ef2990",
   "metadata": {},
   "source": [
    "As you might have noticed, the problem has similar characteristics to the problem in our getting started. \n",
    "Before a solution is evaluated, a repair function is called. To make sure a solution is feasible, an approach would be to either set $x_3 = 2 - x_1$ or $x_1 = 2 - x_3$. Additionally, we need to consider that this repair might produce a variable to be out of bounds."
   ]
  },
  {
   "cell_type": "code",
   "execution_count": null,
   "id": "c0ef1df3-f2d9-4a20-92a4-5684e5032e23",
   "metadata": {
    "execution": {
     "iopub.execute_input": "2021-09-14T16:18:01.800667Z",
     "iopub.status.busy": "2021-09-14T16:18:01.800006Z",
     "iopub.status.idle": "2021-09-14T16:18:01.801586Z",
     "shell.execute_reply": "2021-09-14T16:18:01.802003Z"
    }
   },
   "outputs": [],
   "source": [
    "from pymoo.core.repair import Repair\n",
    "\n",
    "class MyRepair(Repair):\n",
    "\n",
    "    def _do(self, problem, pop, **kwargs):\n",
    "        for k in range(len(pop)):\n",
    "            x = pop[k].X\n",
    "            if np.random.random() < 0.5:\n",
    "                \n",
    "                x[2] = 2 - x[0]\n",
    "                if x[2] > 2:\n",
    "                    val = x[2] - 2\n",
    "                    x[0] += val\n",
    "                    x[2] -= val\n",
    "                    \n",
    "            else:\n",
    "                x[0] = 2 - x[2]\n",
    "                if x[0] > 2:\n",
    "                    val = x[0] - 2\n",
    "                    x[2] += val\n",
    "                    x[0] -= val\n",
    "                \n",
    "                \n",
    "        return pop"
   ]
  },
  {
   "cell_type": "markdown",
   "id": "c70b48e2-9ee4-4c58-a5f6-d5de74ac33c6",
   "metadata": {},
   "source": [
    "Now the algorithm object needs to be initialized with the repair operator and then can be run to solve the problem:"
   ]
  },
  {
   "cell_type": "code",
   "execution_count": null,
   "id": "54068131-6224-48b0-9608-01546a096b38",
   "metadata": {
    "execution": {
     "iopub.execute_input": "2021-09-14T16:18:01.808072Z",
     "iopub.status.busy": "2021-09-14T16:18:01.807414Z",
     "iopub.status.idle": "2021-09-14T16:18:02.533299Z",
     "shell.execute_reply": "2021-09-14T16:18:02.533809Z"
    }
   },
   "outputs": [],
   "source": [
    "from pymoo.algorithms.moo.nsga2 import NSGA2\n",
    "from pymoo.optimize import minimize\n",
    "from pymoo.visualization.scatter import Scatter\n",
    "\n",
    "\n",
    "algorithm = NSGA2(pop_size=100, repair=MyRepair(), eliminate_duplicates=True)\n",
    "\n",
    "res = minimize(MyProblem(),\n",
    "               algorithm,\n",
    "               ('n_gen', 20),\n",
    "               seed=1,\n",
    "               verbose=True)\n",
    "\n",
    "plot = Scatter()\n",
    "plot.add(res.F, color=\"red\")\n",
    "plot.show()"
   ]
  },
  {
   "cell_type": "markdown",
   "id": "247fb8b1-8bf2-4839-b125-cca81da1610b",
   "metadata": {},
   "source": [
    "In our case it is easy to verify if the constraint is violated or not:"
   ]
  },
  {
   "cell_type": "code",
   "execution_count": null,
   "id": "cf96f1db-7bdd-4589-b5ff-0b486420f53a",
   "metadata": {
    "execution": {
     "iopub.execute_input": "2021-09-14T16:18:02.539149Z",
     "iopub.status.busy": "2021-09-14T16:18:02.538495Z",
     "iopub.status.idle": "2021-09-14T16:18:02.540657Z",
     "shell.execute_reply": "2021-09-14T16:18:02.541076Z"
    }
   },
   "outputs": [],
   "source": [
    "print(res.X[:, 0] + res.X[:, 2])"
   ]
  },
  {
   "cell_type": "markdown",
   "id": "08e4d68b-1044-444a-9453-d6c8959d5e5c",
   "metadata": {},
   "source": [
    "If you would like to compare the solution without a repair you will see how searching only in the feasible space helps:"
   ]
  },
  {
   "cell_type": "code",
   "execution_count": null,
   "id": "18e818b8-73cd-4a48-9567-21f76ac9cf3d",
   "metadata": {
    "execution": {
     "iopub.execute_input": "2021-09-14T16:18:02.546462Z",
     "iopub.status.busy": "2021-09-14T16:18:02.545823Z",
     "iopub.status.idle": "2021-09-14T16:18:03.022822Z",
     "shell.execute_reply": "2021-09-14T16:18:03.022403Z"
    }
   },
   "outputs": [],
   "source": [
    "algorithm = NSGA2(pop_size=100, eliminate_duplicates=True)\n",
    "\n",
    "res = minimize(MyProblem(),\n",
    "               algorithm,\n",
    "               ('n_gen', 20),\n",
    "               seed=1,\n",
    "               verbose=True)\n",
    "\n",
    "plot = Scatter()\n",
    "plot.add(res.F, color=\"red\")\n",
    "plot.show()\n",
    "\n"
   ]
  },
  {
   "cell_type": "code",
   "execution_count": null,
   "id": "b21f6cd2-f612-46da-a716-1185d33bf31e",
   "metadata": {
    "execution": {
     "iopub.execute_input": "2021-09-14T16:18:03.027233Z",
     "iopub.status.busy": "2021-09-14T16:18:03.026435Z",
     "iopub.status.idle": "2021-09-14T16:18:03.028741Z",
     "shell.execute_reply": "2021-09-14T16:18:03.029149Z"
    }
   },
   "outputs": [],
   "source": [
    "print(res.X[:, 0] + res.X[:, 2])"
   ]
  }
 ],
 "metadata": {
  "kernelspec": {
   "display_name": "Python 3 (ipykernel)",
   "language": "python",
   "name": "python3"
  },
  "language_info": {
   "codemirror_mode": {
    "name": "ipython",
    "version": 3
   },
   "file_extension": ".py",
   "mimetype": "text/x-python",
   "name": "python",
   "nbconvert_exporter": "python",
   "pygments_lexer": "ipython3",
   "version": "3.9.12"
  }
 },
 "nbformat": 4,
 "nbformat_minor": 5
}
