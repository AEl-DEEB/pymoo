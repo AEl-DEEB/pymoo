{
 "cells": [
  {
   "cell_type": "raw",
   "metadata": {
    "raw_mimetype": "text/restructuredtext"
   },
   "source": [
    ".. _nb_constraint_handling:"
   ]
  },
  {
   "cell_type": "markdown",
   "metadata": {},
   "source": [
    "# Constraint Handling"
   ]
  },
  {
   "cell_type": "markdown",
   "metadata": {},
   "source": [
    "Constraint handling is often neglected in frameworks but is indeed an essential aspect of optimization.\n",
    "Depending on the characteristics of the constraints, one method might be more suitable and lead to better results than another.\n",
    "In principle, two ways exist how constraints can be dealt with: a) use an algorithm that can handle constraints internally; b) redefine the problem to have no constraints but still guarantee the optimum to be a feasible solution. \n",
    "Both strategies will be elaborated in the following."
   ]
  },
  {
   "cell_type": "markdown",
   "metadata": {},
   "source": [
    "By default, the returned optimum is **always** required to be feasible. It might be required to obtain the **least infeasible** solution if no feasible could have been found in some situations. To enable this behavior, you can pass `return_least_infeasible=True` to the `minimize` function. "
   ]
  },
  {
   "cell_type": "code",
   "execution_count": null,
   "metadata": {
    "tags": []
   },
   "outputs": [],
   "source": [
    "from pymoo.algorithms.soo.nonconvex.ga import GA\n",
    "from pymoo.factory import get_problem\n",
    "from pymoo.optimize import minimize\n",
    "\n",
    "res = minimize(get_problem(\"g05\"),\n",
    "               GA(),\n",
    "               return_least_infeasible=True,\n",
    "               seed=1,\n",
    "               verbose=False)\n",
    "\n",
    "print(\"CV:\", res.CV[0])\n",
    "print(\"F:\", res.F[0])"
   ]
  },
  {
   "cell_type": "markdown",
   "metadata": {},
   "source": [
    "## Inequality Constraints"
   ]
  },
  {
   "cell_type": "markdown",
   "metadata": {},
   "source": [
    "In pymoo, inequality constraints are always defined as \"$\\leq 0$\" constraints. Thus, constraint violation is defined as follows: A solution is considered as **feasible** of all constraint violations are **less than** zero. A solution is considered as **infeasible** if at least one constraint violation is **larger than** zero. "
   ]
  },
  {
   "cell_type": "markdown",
   "metadata": {},
   "source": [
    "$$\n",
    "- x^4 \\geq - 2\n",
    "$$"
   ]
  },
  {
   "cell_type": "markdown",
   "metadata": {},
   "source": [
    "Has to be converted to a \"$\\leq 0$\" constraints to satisfy the implementation of constraints in pymoo:"
   ]
  },
  {
   "cell_type": "markdown",
   "metadata": {},
   "source": [
    "$$\n",
    "x^4  \\leq 2\\\\\n",
    "x^4 - 2 \\leq 0\n",
    "$$"
   ]
  },
  {
   "cell_type": "markdown",
   "metadata": {},
   "source": [
    "Let us assume the whole optimization problem is then given by:"
   ]
  },
  {
   "cell_type": "markdown",
   "metadata": {},
   "source": [
    "\\begin{align} \n",
    "\\begin{split}\n",
    "\\min \\;\\; & f(x) = 1 + x^3 \\\\ \n",
    "\\text{s.t.} \\;\\; & x^4 - 2\\leq 0\\\\\n",
    "& -2 \\leq x \\leq 2\n",
    "\\end{split}\n",
    "\\end{align}"
   ]
  },
  {
   "cell_type": "markdown",
   "metadata": {},
   "source": [
    "The figure below shows the corresponding function and the optimum to be found. The constraint function is shown with a dashed line greater than zero (violated) and with a solid line where less or equal to zero (satisfied). The optimum is shown by a red cross, which is minimum in the feasible region."
   ]
  },
  {
   "cell_type": "code",
   "execution_count": null,
   "metadata": {
    "nbsphinx": "hide_input",
    "tags": []
   },
   "outputs": [],
   "source": [
    "import numpy as np\n",
    "import matplotlib.pyplot as plt\n",
    "plt.rc('font', family='serif')\n",
    "\n",
    "X = np.linspace(-2, 2, 10000)\n",
    "\n",
    "F = 1 + X ** 3\n",
    "G = X**4 - 2\n",
    "\n",
    "\n",
    "plt.figure(figsize=(7, 5))\n",
    "\n",
    "plt.plot(X, F, linewidth=2.0, color=\"blue\", label=\"$f(x) = 1 + x^3$\")\n",
    "\n",
    "I = G<=0\n",
    "plt.plot(X[I], G[I], linewidth=4.0, color=\"green\")\n",
    "plt.plot(X, G, linewidth=2.0, color=\"green\", label=\"$g(x) = x^4 - 2$\", linestyle='dotted')\n",
    "\n",
    "\n",
    "\n",
    "plt.scatter([-1.18920654], [-0.6817904], color=\"red\", s=100, marker=\"X\", label=\"Optimum\")\n",
    "plt.xlim(-2, 2)\n",
    "plt.xlabel(\"$x$\")\n",
    "plt.ylabel(\"$f$\")\n",
    "\n",
    "plt.legend(loc='upper center', bbox_to_anchor=(0.5, 1.12),\n",
    "          ncol=4, fancybox=True, shadow=False)\n",
    "\n",
    "plt.tight_layout()\n",
    "plt.show()"
   ]
  },
  {
   "cell_type": "markdown",
   "metadata": {},
   "source": [
    "The problem can be implemented straightforwardly:"
   ]
  },
  {
   "cell_type": "code",
   "execution_count": null,
   "metadata": {
    "tags": []
   },
   "outputs": [],
   "source": [
    "import numpy as np\n",
    "from pymoo.util.misc import stack\n",
    "from pymoo.core.problem import Problem\n",
    "\n",
    "class MyProblem(Problem):\n",
    "\n",
    "    def __init__(self):\n",
    "        super().__init__(n_var=1,\n",
    "                         n_obj=1,\n",
    "                         n_ieq_constr=1,\n",
    "                         xl=-2,\n",
    "                         xu=2)\n",
    "\n",
    "    def _evaluate(self, X, out, *args, **kwargs):\n",
    "        out[\"F\"] = 1 + X ** 3\n",
    "        out[\"G\"] = X**4 - 2"
   ]
  },
  {
   "cell_type": "markdown",
   "metadata": {},
   "source": [
    "And then being solved as usually by initiating the problem, algorithm and running the minimize method:"
   ]
  },
  {
   "cell_type": "code",
   "execution_count": null,
   "metadata": {
    "tags": []
   },
   "outputs": [],
   "source": [
    "from pymoo.algorithms.soo.nonconvex.pso import PSO\n",
    "from pymoo.optimize import minimize\n",
    "\n",
    "problem = MyProblem()\n",
    "\n",
    "algorithm = PSO()\n",
    "\n",
    "res = minimize(problem,\n",
    "               algorithm,\n",
    "               seed=1,\n",
    "               verbose=False)\n",
    "\n",
    "print(\"Best solution found: \\nX = %s\\nF = %s\\nCV = %s\" % (res.X, res.F, res.CV))"
   ]
  },
  {
   "cell_type": "markdown",
   "metadata": {},
   "source": [
    "For a bi-objective example with constraints, we like to refer to our [Getting Started Guide](../getting_started/index.ipynb) where a similar example is shown."
   ]
  },
  {
   "cell_type": "markdown",
   "metadata": {},
   "source": [
    "## Equality to Inequality Constraints"
   ]
  },
  {
   "cell_type": "markdown",
   "metadata": {},
   "source": [
    "We got a couple of questions about how equality constraints should be handled in a genetic algorithm. In general, functions without any smoothness are challenging to handle for genetic algorithms. An equality constraint is an extreme case, where the constraint violation is 0 at precisely one point and otherwise 1. \n",
    "\n",
    "Let us consider the following constraint $g(x)$ where $x$ represents a variable:"
   ]
  },
  {
   "cell_type": "markdown",
   "metadata": {},
   "source": [
    "$g(x): x = 5$"
   ]
  },
  {
   "cell_type": "markdown",
   "metadata": {},
   "source": [
    "An equality constraint can be expressed by an inequality constraint:"
   ]
  },
  {
   "cell_type": "markdown",
   "metadata": {},
   "source": [
    "$g(x): |x - 5| \\leq 0$   "
   ]
  },
  {
   "cell_type": "markdown",
   "metadata": {},
   "source": [
    "or"
   ]
  },
  {
   "cell_type": "markdown",
   "metadata": {},
   "source": [
    "$g(x): (x-5)^2   \\leq 0$"
   ]
  },
  {
   "cell_type": "markdown",
   "metadata": {},
   "source": [
    "However, all of the constraints above are very strict and make **most search space infeasible**. Without providing more information to the algorithm, those constraints are challenging to satisfy."
   ]
  },
  {
   "cell_type": "markdown",
   "metadata": {},
   "source": [
    "Thus, the constraint can be smoothed by adding an epsilon to it and, therefore, having two inequality constraints:"
   ]
  },
  {
   "cell_type": "markdown",
   "metadata": {},
   "source": [
    "$g'(x): 5 - \\epsilon \\leq x \\leq 5 + \\epsilon$"
   ]
  },
  {
   "cell_type": "markdown",
   "metadata": {},
   "source": [
    "Also, it can be simply expressed in one inequality constraint by:"
   ]
  },
  {
   "cell_type": "markdown",
   "metadata": {},
   "source": [
    "$g'(x): (x-5)^2  - \\hat{\\epsilon} \\leq 0$"
   ]
  },
  {
   "cell_type": "markdown",
   "metadata": {},
   "source": [
    "Depending on the $\\epsilon$, the solutions will be more or less close to the desired value. However, the genetic algorithm does not know anything about the problem itself, making it challenging to handle and focus the search in the infeasible space."
   ]
  },
  {
   "cell_type": "markdown",
   "metadata": {},
   "source": [
    "## Parameter-less Approach / Feasibility First"
   ]
  },
  {
   "cell_type": "markdown",
   "metadata": {},
   "source": [
    "Parameter-less constraint handling is the default constraint handling approach in **pymoo**. It strictly prefers feasible over infeasible solutions. "
   ]
  },
  {
   "cell_type": "markdown",
   "metadata": {},
   "source": [
    "$$\n",
    "F(x)=\n",
    "\\begin{cases}\n",
    "f(x), \\quad \\text{if feasible} \\\\\n",
    "f_{\\max} + \\sum_{j=1}^{|J|} \\, \\langle \\, g_j (x) \\, \\rangle, \\quad \\rm{otherwise}\n",
    "\\end{cases}\n",
    "$$"
   ]
  },
  {
   "cell_type": "markdown",
   "metadata": {},
   "source": [
    "where $\\langle \\cdot \\rangle$ is defined by "
   ]
  },
  {
   "cell_type": "markdown",
   "metadata": {},
   "source": [
    "$$\n",
    "\\langle a \\rangle = \n",
    "\\begin{cases}\n",
    "a, \\quad a \\geq 0 \\\\\n",
    "0, \\quad \\rm{otherwise}\n",
    "\\end{cases}\n",
    "$$"
   ]
  },
  {
   "cell_type": "markdown",
   "metadata": {},
   "source": [
    "This approach works well if an algorithm is based on comparisons. For instance, a genetic algorithm has to determine what individuals survive. Thus, this mapping can be utilized to create a rank for each individual. \n",
    "If the $f_\\max$ of the function is known beforehand, it can also be used to redefine the problem beforehand. \n",
    "Redefining the problem is very similar to the approach discussed next."
   ]
  },
  {
   "cell_type": "markdown",
   "metadata": {},
   "source": [
    "## Penalty-based Approach / Lagrange Multipliers"
   ]
  },
  {
   "cell_type": "markdown",
   "metadata": {},
   "source": [
    "The penalty-based constraint handling approach internally converts equality constraints to inequality constraints. Then, the violation of inequality and equality constraints penalize the objective value. This makes all non-constrained algorithms applicable; however, it also might create a more difficult fitness landscape to solve. \n",
    "\n",
    "**NOTE**: Genetic algorithms are not made to handle equality constraints out of the box, but often need to be customized to satisfy the equality constraints directly. The approach below only works for a very simple and a very limited amount of equality constraints."
   ]
  },
  {
   "cell_type": "markdown",
   "metadata": {},
   "source": [
    "### Single-objective"
   ]
  },
  {
   "cell_type": "markdown",
   "metadata": {},
   "source": [
    "\\begin{align} \n",
    "\\begin{split}\n",
    "\\min \\;\\; & f(x) = x_1^2 + x_2^2 + x_3^2 \\\\ \n",
    "\\text{s.t.} \\;\\; & x_1 \\cdot x_2 \\geq 1\\\\\n",
    "& x_1 \\cdot x_2 \\leq 5\\\\\n",
    "& x_2 + x_3 = 1\\\\\n",
    "& 0 \\leq x \\leq 5\n",
    "\\end{split}\n",
    "\\end{align}"
   ]
  },
  {
   "cell_type": "markdown",
   "metadata": {},
   "source": [
    "By converting the constraints to $\\leq 0$ constraints the implementation of the problem looks as follows:"
   ]
  },
  {
   "cell_type": "code",
   "execution_count": null,
   "metadata": {
    "tags": []
   },
   "outputs": [],
   "source": [
    "def func_obj(x):\n",
    "    return x[0] ** 2 + x[1] ** 2 + x[2] ** 2\n",
    "\n",
    "constr_ieq = [\n",
    "    lambda x: 1 - x[0] * x[1],\n",
    "    lambda x: x[0] * x[1] - 5\n",
    "]\n",
    "\n",
    "constr_eq = [\n",
    "    lambda x: 1 - x[1] - x[2]\n",
    "]"
   ]
  },
  {
   "cell_type": "markdown",
   "metadata": {},
   "source": [
    "For this example, we use the definition of a problem using the factory method `create_problem_from_funcs`:"
   ]
  },
  {
   "cell_type": "code",
   "execution_count": null,
   "metadata": {
    "tags": []
   },
   "outputs": [],
   "source": [
    "from pymoo.problems.functional import FunctionalProblem\n",
    "from pymoo.constraints.penalty import ConstraintsAsPenalty\n",
    "\n",
    "problem = FunctionalProblem(3,\n",
    "                            func_obj,\n",
    "                            xl=0,\n",
    "                            xu=5,\n",
    "                            constr_ieq=constr_ieq,\n",
    "                            constr_eq=constr_eq\n",
    "                            )\n",
    "\n",
    "problem = ConstraintsAsPenalty(problem, penalty=1e6)"
   ]
  },
  {
   "cell_type": "markdown",
   "metadata": {},
   "source": [
    "Then, an algorithm can be used to solve the problem as usual:"
   ]
  },
  {
   "cell_type": "code",
   "execution_count": null,
   "metadata": {
    "execution": {
     "iopub.execute_input": "2021-09-14T16:17:59.782674Z",
     "iopub.status.busy": "2021-09-14T16:17:59.781958Z",
     "iopub.status.idle": "2021-09-14T16:18:00.893628Z",
     "shell.execute_reply": "2021-09-14T16:18:00.894189Z"
    }
   },
   "outputs": [],
   "source": [
    "from pymoo.algorithms.soo.nonconvex.pso import PSO\n",
    "from pymoo.optimize import minimize\n",
    "\n",
    "\n",
    "algorithm = PSO(pop_size=50)\n",
    "\n",
    "res = minimize(problem, algorithm, seed=1)\n",
    "\n",
    "opt = res.opt[0]\n",
    "X, F, CV = opt.get(\"X\", \"__F__\", \"__CV__\")\n",
    "\n",
    "print(\"Best solution found: \\nX = %s\\nF = %s\\nCV = %s\\n\" % (X, F, CV))"
   ]
  },
  {
   "cell_type": "markdown",
   "metadata": {},
   "source": [
    "### Multi-objective"
   ]
  },
  {
   "cell_type": "markdown",
   "metadata": {},
   "source": [
    "The almost equivalent could be applied for multi-objective optimization problems. The example below shows the [getting started guide](../getting_started/index.ipynb) example with a penalty being used to deal with the constraints:"
   ]
  },
  {
   "cell_type": "markdown",
   "metadata": {},
   "source": [
    "#### Functions"
   ]
  },
  {
   "cell_type": "code",
   "execution_count": null,
   "metadata": {
    "execution": {
     "iopub.execute_input": "2021-09-14T16:18:00.899918Z",
     "iopub.status.busy": "2021-09-14T16:18:00.899211Z",
     "iopub.status.idle": "2021-09-14T16:18:00.901176Z",
     "shell.execute_reply": "2021-09-14T16:18:00.901585Z"
    }
   },
   "outputs": [],
   "source": [
    "objs = [\n",
    "    lambda x: x[0]**2 + x[1]**2,\n",
    "    lambda x: (x[0]-1)**2 + x[1]**2\n",
    "    \n",
    "]\n",
    "\n",
    "constr_ieq = [\n",
    "    lambda x: 2*(x[0]-0.1) * (x[0]-0.9) / 0.18,\n",
    "    lambda x: - 20*(x[0]-0.4) * (x[0]-0.6) / 4.8\n",
    "]\n",
    "\n",
    "constr_eq = []"
   ]
  },
  {
   "cell_type": "markdown",
   "metadata": {},
   "source": [
    "#### Problem"
   ]
  },
  {
   "cell_type": "code",
   "execution_count": null,
   "metadata": {
    "execution": {
     "iopub.execute_input": "2021-09-14T16:18:00.906273Z",
     "iopub.status.busy": "2021-09-14T16:18:00.905699Z",
     "iopub.status.idle": "2021-09-14T16:18:00.907874Z",
     "shell.execute_reply": "2021-09-14T16:18:00.908289Z"
    }
   },
   "outputs": [],
   "source": [
    "from pymoo.problems.functional import FunctionalProblem\n",
    "from pymoo.problems.constr_as_penalty import ConstraintsAsPenalty\n",
    "\n",
    "problem = FunctionalProblem(2,\n",
    "                            objs,\n",
    "                            xl=-2,\n",
    "                            xu=2,\n",
    "                            constr_ieq=constr_ieq,\n",
    "                            constr_eq=constr_eq\n",
    "                            )\n",
    "\n",
    "problem = ConstraintsAsPenalty(problem, penalty=1e6)"
   ]
  },
  {
   "cell_type": "markdown",
   "metadata": {},
   "source": [
    "#### Optimize"
   ]
  },
  {
   "cell_type": "code",
   "execution_count": null,
   "metadata": {
    "execution": {
     "iopub.execute_input": "2021-09-14T16:18:00.912624Z",
     "iopub.status.busy": "2021-09-14T16:18:00.911898Z",
     "iopub.status.idle": "2021-09-14T16:18:01.489499Z",
     "shell.execute_reply": "2021-09-14T16:18:01.489873Z"
    }
   },
   "outputs": [],
   "source": [
    "from pymoo.algorithms.moo.nsga2 import NSGA2\n",
    "from pymoo.optimize import minimize\n",
    "\n",
    "algorithm = NSGA2(pop_size=40)\n",
    "\n",
    "res = minimize(problem,\n",
    "               algorithm,\n",
    "               seed=1)"
   ]
  },
  {
   "cell_type": "markdown",
   "metadata": {},
   "source": [
    "#### Visualize"
   ]
  },
  {
   "cell_type": "code",
   "execution_count": null,
   "metadata": {
    "execution": {
     "iopub.execute_input": "2021-09-14T16:18:01.494976Z",
     "iopub.status.busy": "2021-09-14T16:18:01.494372Z",
     "iopub.status.idle": "2021-09-14T16:18:01.785788Z",
     "shell.execute_reply": "2021-09-14T16:18:01.786202Z"
    }
   },
   "outputs": [],
   "source": [
    "from pymoo.visualization.scatter import Scatter\n",
    "\n",
    "plot = Scatter(title = \"Objective Space\")\n",
    "plot.add(res.F)\n",
    "plot.show()"
   ]
  },
  {
   "cell_type": "markdown",
   "metadata": {},
   "source": [
    "## Repair Operator "
   ]
  },
  {
   "cell_type": "markdown",
   "metadata": {},
   "source": [
    "A simple approach is to handle constraints through a repair function. This is only possible if the equation of the constraint is known. The repair makes sure every solution that is evaluated is, in fact, feasible. Let us consider the following example where \n",
    "the equality constraints need to consider more than one variable:"
   ]
  },
  {
   "cell_type": "markdown",
   "metadata": {},
   "source": [
    "\\begin{align} \n",
    "\\begin{split}\n",
    "\\min \\;\\; & f_1(x) = (x_1^2 + x_2^2) \\\\ \n",
    "\\max \\;\\; & f_2(x) = -(x_1-1)^2 - x_2^2 \\\\[1mm]\n",
    "\\text{s.t.} \\;\\; & g_1(x_1, x_3) : x_1 + x_3 = 2\\\\[2mm]\n",
    "& -2 \\leq x_1 \\leq 2 \\\\\n",
    "& -2 \\leq x_2 \\leq 2 \\\\\n",
    "& -2 \\leq x_3 \\leq 2\n",
    "\\end{split}\n",
    "\\end{align}"
   ]
  },
  {
   "cell_type": "markdown",
   "metadata": {},
   "source": [
    "We implement the problem using by squaring the term and using an $\\epsilon$ as we have explained above. The source code for the problem looks as follows:"
   ]
  },
  {
   "cell_type": "code",
   "execution_count": null,
   "metadata": {
    "execution": {
     "iopub.execute_input": "2021-09-14T16:18:01.793022Z",
     "iopub.status.busy": "2021-09-14T16:18:01.792227Z",
     "iopub.status.idle": "2021-09-14T16:18:01.793894Z",
     "shell.execute_reply": "2021-09-14T16:18:01.794313Z"
    }
   },
   "outputs": [],
   "source": [
    "import numpy as np\n",
    "\n",
    "from pymoo.core.problem import Problem\n",
    "\n",
    "\n",
    "class MyProblem(Problem):\n",
    "\n",
    "    def __init__(self):\n",
    "        super().__init__(n_var=3,\n",
    "                         n_obj=2,\n",
    "                         n_ieq_constr=1,\n",
    "                         xl=np.array([-2, -2, -2]),\n",
    "                         xu=np.array([2, 2, 2]))\n",
    "\n",
    "    def _evaluate(self, x, out, *args, **kwargs):\n",
    "        f1 = x[:, 0] ** 2 + x[:, 1] ** 2\n",
    "        f2 = (x[:, 0] - 1) ** 2 + x[:, 1] ** 2\n",
    "        g1 = (x[:, 0] + x[:, 2] - 2) ** 2 - 1e-5\n",
    "\n",
    "        out[\"F\"] = np.column_stack([f1, f2])\n",
    "        out[\"G\"] = g1\n"
   ]
  },
  {
   "cell_type": "markdown",
   "metadata": {},
   "source": [
    "As you might have noticed, the problem has similar characteristics to the problem in our getting started. \n",
    "Before a solution is evaluated, a repair function is called. To make sure a solution is feasible, an approach would be to either set $x_3 = 2 - x_1$ or $x_1 = 2 - x_3$. Additionally, we need to consider that this repair might produce a variable to be out of bounds."
   ]
  },
  {
   "cell_type": "code",
   "execution_count": null,
   "metadata": {
    "execution": {
     "iopub.execute_input": "2021-09-14T16:18:01.800667Z",
     "iopub.status.busy": "2021-09-14T16:18:01.800006Z",
     "iopub.status.idle": "2021-09-14T16:18:01.801586Z",
     "shell.execute_reply": "2021-09-14T16:18:01.802003Z"
    }
   },
   "outputs": [],
   "source": [
    "from pymoo.core.repair import Repair\n",
    "\n",
    "class MyRepair(Repair):\n",
    "\n",
    "    def _do(self, problem, pop, **kwargs):\n",
    "        for k in range(len(pop)):\n",
    "            x = pop[k].X\n",
    "            if np.random.random() < 0.5:\n",
    "                \n",
    "                x[2] = 2 - x[0]\n",
    "                if x[2] > 2:\n",
    "                    val = x[2] - 2\n",
    "                    x[0] += val\n",
    "                    x[2] -= val\n",
    "                    \n",
    "            else:\n",
    "                x[0] = 2 - x[2]\n",
    "                if x[0] > 2:\n",
    "                    val = x[0] - 2\n",
    "                    x[2] += val\n",
    "                    x[0] -= val\n",
    "                \n",
    "                \n",
    "        return pop"
   ]
  },
  {
   "cell_type": "markdown",
   "metadata": {},
   "source": [
    "Now the algorithm object needs to be initialized with the repair operator and then can be run to solve the problem:"
   ]
  },
  {
   "cell_type": "code",
   "execution_count": null,
   "metadata": {
    "execution": {
     "iopub.execute_input": "2021-09-14T16:18:01.808072Z",
     "iopub.status.busy": "2021-09-14T16:18:01.807414Z",
     "iopub.status.idle": "2021-09-14T16:18:02.533299Z",
     "shell.execute_reply": "2021-09-14T16:18:02.533809Z"
    }
   },
   "outputs": [],
   "source": [
    "from pymoo.algorithms.moo.nsga2 import NSGA2\n",
    "from pymoo.optimize import minimize\n",
    "from pymoo.visualization.scatter import Scatter\n",
    "\n",
    "\n",
    "algorithm = NSGA2(pop_size=100, repair=MyRepair(), eliminate_duplicates=True)\n",
    "\n",
    "res = minimize(MyProblem(),\n",
    "               algorithm,\n",
    "               ('n_gen', 20),\n",
    "               seed=1,\n",
    "               verbose=True)\n",
    "\n",
    "plot = Scatter()\n",
    "plot.add(res.F, color=\"red\")\n",
    "plot.show()"
   ]
  },
  {
   "cell_type": "markdown",
   "metadata": {},
   "source": [
    "In our case it is easy to verify if the constraint is violated or not:"
   ]
  },
  {
   "cell_type": "code",
   "execution_count": null,
   "metadata": {
    "execution": {
     "iopub.execute_input": "2021-09-14T16:18:02.539149Z",
     "iopub.status.busy": "2021-09-14T16:18:02.538495Z",
     "iopub.status.idle": "2021-09-14T16:18:02.540657Z",
     "shell.execute_reply": "2021-09-14T16:18:02.541076Z"
    }
   },
   "outputs": [],
   "source": [
    "print(res.X[:, 0] + res.X[:, 2])"
   ]
  },
  {
   "cell_type": "markdown",
   "metadata": {},
   "source": [
    "If you would like to compare the solution without a repair you will see how searching only in the feasible space helps:"
   ]
  },
  {
   "cell_type": "code",
   "execution_count": null,
   "metadata": {
    "execution": {
     "iopub.execute_input": "2021-09-14T16:18:02.546462Z",
     "iopub.status.busy": "2021-09-14T16:18:02.545823Z",
     "iopub.status.idle": "2021-09-14T16:18:03.022822Z",
     "shell.execute_reply": "2021-09-14T16:18:03.022403Z"
    }
   },
   "outputs": [],
   "source": [
    "algorithm = NSGA2(pop_size=100, eliminate_duplicates=True)\n",
    "\n",
    "res = minimize(MyProblem(),\n",
    "               algorithm,\n",
    "               ('n_gen', 20),\n",
    "               seed=1,\n",
    "               verbose=True)\n",
    "\n",
    "plot = Scatter()\n",
    "plot.add(res.F, color=\"red\")\n",
    "plot.show()\n",
    "\n"
   ]
  },
  {
   "cell_type": "code",
   "execution_count": null,
   "metadata": {
    "execution": {
     "iopub.execute_input": "2021-09-14T16:18:03.027233Z",
     "iopub.status.busy": "2021-09-14T16:18:03.026435Z",
     "iopub.status.idle": "2021-09-14T16:18:03.028741Z",
     "shell.execute_reply": "2021-09-14T16:18:03.029149Z"
    }
   },
   "outputs": [],
   "source": [
    "print(res.X[:, 0] + res.X[:, 2])"
   ]
  },
  {
   "cell_type": "markdown",
   "metadata": {},
   "source": [
    "Here, in fact, the $\\epsilon$ term is necessary to find any feasible solution at all."
   ]
  }
 ],
 "metadata": {
  "kernelspec": {
   "display_name": "Python 3 (ipykernel)",
   "language": "python",
   "name": "python3"
  },
  "language_info": {
   "codemirror_mode": {
    "name": "ipython",
    "version": 3
   },
   "file_extension": ".py",
   "mimetype": "text/x-python",
   "name": "python",
   "nbconvert_exporter": "python",
   "pygments_lexer": "ipython3",
   "version": "3.9.12"
  }
 },
 "nbformat": 4,
 "nbformat_minor": 4
}
