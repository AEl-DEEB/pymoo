{
 "cells": [
  {
   "cell_type": "markdown",
   "metadata": {
    "raw_mimetype": "text/restructuredtext"
   },
   "source": [
    ".. _nb_interface_results:"
   ]
  },
  {
   "cell_type": "markdown",
   "metadata": {},
   "source": [
    "## Result"
   ]
  },
  {
   "cell_type": "markdown",
   "metadata": {},
   "source": [
    "After an algorithm has been executed a result object is returned. In the following, single- and multi-objective runs with and without constraints are shown and the corresponding `Result` object is explained:"
   ]
  },
  {
   "cell_type": "code",
   "execution_count": null,
   "metadata": {
    "execution": {
     "iopub.execute_input": "2022-07-30T17:23:01.830535Z",
     "iopub.status.busy": "2022-07-30T17:23:01.830112Z",
     "iopub.status.idle": "2022-07-30T17:23:02.007848Z",
     "shell.execute_reply": "2022-07-30T17:23:02.006911Z"
    },
    "tags": []
   },
   "outputs": [],
   "source": [
    "from pymoo.algorithms.soo.nonconvex.ga import GA\n",
    "from pymoo.problems import get_problem\n",
    "from pymoo.optimize import minimize\n",
    "\n",
    "\n",
    "problem = get_problem(\"sphere\")\n",
    "algorithm = GA(pop_size=5)\n",
    "res = minimize(problem,\n",
    "               algorithm,\n",
    "               ('n_gen', 30),\n",
    "               seed=1)"
   ]
  },
  {
   "cell_type": "markdown",
   "metadata": {},
   "source": [
    "After an algorithm has been executed, a result object is returned. In the following, single- and multi-objective runs with and without constraints are shown, and the corresponding `Result` object is explained:\n",
    "\n",
    "In this single-objective optimization problem, there exists a single best solution that was found. \n",
    "The result directly contains the best-found values in the corresponding spaces. \n",
    "\n",
    "- `res.X`: Design space values are \n",
    "- `res.F`: Objective spaces values\n",
    "- `res.G`: Constraint values\n",
    "- `res.CV`: Aggregated constraint violation\n",
    "- `res.algorithm`: Algorithm object which has been iterated over\n",
    "- `res.opt`: The solutions as a `Population` object.\n",
    "- `res.pop`: The final Population\n",
    "- `res.history`: The history of the algorithm. (only if `save_history` has been enabled during the algorithm initialization)\n",
    "- `res.time`: The time required to run the algorithm\n"
   ]
  },
  {
   "cell_type": "code",
   "execution_count": null,
   "metadata": {
    "execution": {
     "iopub.execute_input": "2022-07-30T17:23:02.012355Z",
     "iopub.status.busy": "2022-07-30T17:23:02.012047Z",
     "iopub.status.idle": "2022-07-30T17:23:02.018781Z",
     "shell.execute_reply": "2022-07-30T17:23:02.018202Z"
    },
    "tags": []
   },
   "outputs": [],
   "source": [
    "res.X"
   ]
  },
  {
   "cell_type": "code",
   "execution_count": null,
   "metadata": {
    "execution": {
     "iopub.execute_input": "2022-07-30T17:23:02.021673Z",
     "iopub.status.busy": "2022-07-30T17:23:02.021425Z",
     "iopub.status.idle": "2022-07-30T17:23:02.025664Z",
     "shell.execute_reply": "2022-07-30T17:23:02.025171Z"
    },
    "tags": []
   },
   "outputs": [],
   "source": [
    "res.F"
   ]
  },
  {
   "cell_type": "code",
   "execution_count": null,
   "metadata": {
    "execution": {
     "iopub.execute_input": "2022-07-30T17:23:02.028507Z",
     "iopub.status.busy": "2022-07-30T17:23:02.028274Z",
     "iopub.status.idle": "2022-07-30T17:23:02.032807Z",
     "shell.execute_reply": "2022-07-30T17:23:02.032079Z"
    },
    "tags": []
   },
   "outputs": [],
   "source": [
    "res.G"
   ]
  },
  {
   "cell_type": "code",
   "execution_count": null,
   "metadata": {
    "execution": {
     "iopub.execute_input": "2022-07-30T17:23:02.035711Z",
     "iopub.status.busy": "2022-07-30T17:23:02.035475Z",
     "iopub.status.idle": "2022-07-30T17:23:02.039705Z",
     "shell.execute_reply": "2022-07-30T17:23:02.039221Z"
    },
    "tags": []
   },
   "outputs": [],
   "source": [
    "res.CV"
   ]
  },
  {
   "cell_type": "code",
   "execution_count": null,
   "metadata": {
    "execution": {
     "iopub.execute_input": "2022-07-30T17:23:02.042556Z",
     "iopub.status.busy": "2022-07-30T17:23:02.042322Z",
     "iopub.status.idle": "2022-07-30T17:23:02.046093Z",
     "shell.execute_reply": "2022-07-30T17:23:02.045531Z"
    },
    "tags": []
   },
   "outputs": [],
   "source": [
    "res.algorithm"
   ]
  },
  {
   "cell_type": "code",
   "execution_count": null,
   "metadata": {
    "execution": {
     "iopub.execute_input": "2022-07-30T17:23:02.048823Z",
     "iopub.status.busy": "2022-07-30T17:23:02.048583Z",
     "iopub.status.idle": "2022-07-30T17:23:02.051530Z",
     "shell.execute_reply": "2022-07-30T17:23:02.050985Z"
    },
    "tags": []
   },
   "outputs": [],
   "source": [
    "pop = res.pop"
   ]
  },
  {
   "cell_type": "markdown",
   "metadata": {},
   "source": [
    "The values from the final population can be extracted by using the `get` method. The population object is used internally and store information for each individual. The `get` method allows returning vectors or matrices based on the provided properties."
   ]
  },
  {
   "cell_type": "code",
   "execution_count": null,
   "metadata": {
    "execution": {
     "iopub.execute_input": "2022-07-30T17:23:02.054539Z",
     "iopub.status.busy": "2022-07-30T17:23:02.054282Z",
     "iopub.status.idle": "2022-07-30T17:23:02.059175Z",
     "shell.execute_reply": "2022-07-30T17:23:02.058593Z"
    },
    "tags": []
   },
   "outputs": [],
   "source": [
    "pop.get(\"X\")"
   ]
  },
  {
   "cell_type": "code",
   "execution_count": null,
   "metadata": {
    "execution": {
     "iopub.execute_input": "2022-07-30T17:23:02.062015Z",
     "iopub.status.busy": "2022-07-30T17:23:02.061762Z",
     "iopub.status.idle": "2022-07-30T17:23:02.066916Z",
     "shell.execute_reply": "2022-07-30T17:23:02.066166Z"
    },
    "tags": []
   },
   "outputs": [],
   "source": [
    "pop.get(\"F\")"
   ]
  },
  {
   "cell_type": "markdown",
   "metadata": {},
   "source": [
    "In this run, the problem did not have any constraints, and `res.G` evaluated to `None`.\n",
    "Also, note that `res.CV` will always be set to `0`, no matter if the problem has constraints or not."
   ]
  },
  {
   "cell_type": "markdown",
   "metadata": {},
   "source": [
    "Let us consider a problem that has, in fact, constraints:"
   ]
  },
  {
   "cell_type": "code",
   "execution_count": null,
   "metadata": {
    "execution": {
     "iopub.execute_input": "2022-07-30T17:23:02.070445Z",
     "iopub.status.busy": "2022-07-30T17:23:02.070172Z",
     "iopub.status.idle": "2022-07-30T17:23:02.084794Z",
     "shell.execute_reply": "2022-07-30T17:23:02.084195Z"
    },
    "tags": []
   },
   "outputs": [],
   "source": [
    "problem = get_problem(\"g1\")\n",
    "algorithm = GA(pop_size=5)\n",
    "res = minimize(problem,\n",
    "               algorithm,\n",
    "               ('n_gen', 5),\n",
    "               verbose=True,\n",
    "               seed=1)"
   ]
  },
  {
   "cell_type": "code",
   "execution_count": null,
   "metadata": {
    "execution": {
     "iopub.execute_input": "2022-07-30T17:23:02.088359Z",
     "iopub.status.busy": "2022-07-30T17:23:02.087770Z",
     "iopub.status.idle": "2022-07-30T17:23:02.093590Z",
     "shell.execute_reply": "2022-07-30T17:23:02.092973Z"
    },
    "tags": []
   },
   "outputs": [],
   "source": [
    "res.X, res.F, res.G, res.CV"
   ]
  },
  {
   "cell_type": "markdown",
   "metadata": {},
   "source": [
    "Here, the algorithm was not able to find any feasible solution in 5 generations. Therefore, all values contained in the results are equals to `None`. If the least feasible solution should be returned when no feasible solution was found, the flag `return_least_infeasible` can be enabled:"
   ]
  },
  {
   "cell_type": "code",
   "execution_count": null,
   "metadata": {
    "execution": {
     "iopub.execute_input": "2022-07-30T17:23:02.096580Z",
     "iopub.status.busy": "2022-07-30T17:23:02.096304Z",
     "iopub.status.idle": "2022-07-30T17:23:02.112053Z",
     "shell.execute_reply": "2022-07-30T17:23:02.111447Z"
    },
    "tags": []
   },
   "outputs": [],
   "source": [
    "problem = get_problem(\"g1\")\n",
    "algorithm = GA(pop_size=5)\n",
    "res = minimize(problem,\n",
    "               algorithm,\n",
    "               ('n_gen', 5),\n",
    "               verbose=True,\n",
    "               return_least_infeasible=True,\n",
    "               seed=1)"
   ]
  },
  {
   "cell_type": "code",
   "execution_count": null,
   "metadata": {
    "execution": {
     "iopub.execute_input": "2022-07-30T17:23:02.116006Z",
     "iopub.status.busy": "2022-07-30T17:23:02.115660Z",
     "iopub.status.idle": "2022-07-30T17:23:02.121332Z",
     "shell.execute_reply": "2022-07-30T17:23:02.120566Z"
    },
    "tags": []
   },
   "outputs": [],
   "source": [
    "res.X, res.F, res.G, res.CV"
   ]
  },
  {
   "cell_type": "markdown",
   "metadata": {},
   "source": [
    "We have made this design decision, because an infeasible solution can often not be considered as a solution\n",
    "of the optimization problem. Therefore, having a solution equals to `None` indicates the fact no feasible solution has been found."
   ]
  },
  {
   "cell_type": "markdown",
   "metadata": {},
   "source": [
    "If the problem has multiple objectives, the result object has the same structure but `res.X`, `res.F`, `res .G`, `res.CV` is a set \n",
    "of non-dominated solutions instead of a single one."
   ]
  },
  {
   "cell_type": "code",
   "execution_count": null,
   "metadata": {
    "execution": {
     "iopub.execute_input": "2022-07-30T17:23:02.124284Z",
     "iopub.status.busy": "2022-07-30T17:23:02.124015Z",
     "iopub.status.idle": "2022-07-30T17:23:02.281090Z",
     "shell.execute_reply": "2022-07-30T17:23:02.280227Z"
    },
    "tags": []
   },
   "outputs": [],
   "source": [
    "from pymoo.algorithms.moo.nsga2 import NSGA2\n",
    "\n",
    "problem = get_problem(\"zdt2\")\n",
    "algorithm = NSGA2()\n",
    "res = minimize(problem,\n",
    "               algorithm,\n",
    "               ('n_gen', 10),\n",
    "               seed=1)"
   ]
  },
  {
   "cell_type": "code",
   "execution_count": null,
   "metadata": {
    "execution": {
     "iopub.execute_input": "2022-07-30T17:23:02.284432Z",
     "iopub.status.busy": "2022-07-30T17:23:02.284170Z",
     "iopub.status.idle": "2022-07-30T17:23:02.289319Z",
     "shell.execute_reply": "2022-07-30T17:23:02.288695Z"
    },
    "tags": []
   },
   "outputs": [],
   "source": [
    "res.F"
   ]
  }
 ],
 "metadata": {
  "kernelspec": {
   "display_name": "Python 3",
   "language": "python",
   "name": "python3"
  },
  "language_info": {
   "codemirror_mode": {
    "name": "ipython",
    "version": 3
   },
   "file_extension": ".py",
   "mimetype": "text/x-python",
   "name": "python",
   "nbconvert_exporter": "python",
   "pygments_lexer": "ipython3",
   "version": "3.10.5"
  }
 },
 "nbformat": 4,
 "nbformat_minor": 4
}
