{
 "cells": [
  {
   "attachments": {},
   "cell_type": "raw",
   "metadata": {},
   "source": [
    ".. _nb_survival:"
   ]
  },
  {
   "attachments": {},
   "cell_type": "markdown",
   "metadata": {},
   "source": [
    "## Survival"
   ]
  },
  {
   "attachments": {},
   "cell_type": "markdown",
   "metadata": {},
   "source": [
    "### Rank and Crowding"
   ]
  },
  {
   "attachments": {},
   "cell_type": "markdown",
   "metadata": {},
   "source": [
    "The original survival strategy proposed in [NSGA-II](../algorithms/moo/nsga2.ipynb#nsga-ii-non-dominated-sorting-genetic-algorithm) <cite data-cite=\"nsga2\"></cite> ranks solutions in fronts by dominance criterion and uses a diversity metric denoted crowding distances to sort individuals in each front. This is used as criterion to compare individuals in elitist parent selection schemes and to truncate the population in the survival selection stage of algorithms.\n",
    "\n",
    "Variants of the original algorithm have been proposed in the literature to address different performance aspects. Therefore the class ``RankAndCrowding`` from pymoo is a generalization of NSGA-II's survival in which several crowding metrics can be used. Some are already implemented and can be parsed as strings in the ``crowding_func`` argument, while others might be defined from scratch and parsed as callables. The ones available are:\n",
    "\n",
    "- **Crowding Distance** (*'cd'*): Proposed by Deb et al. <cite data-cite=\"nsga2\"></cite> in NSGA-II.\n",
    "- **Pruning Crowding Distance** (*'pruning-cd'* or *'pcd'*): Proposed by Kukkonen & Deb <cite data-cite=\"gde3pruning\"></cite>, it recursively recalculates crowding distances as removes individuals from a population to improve diversity.\n",
    "- ***M*-Nearest Neighbors** (*'mnn'*): Proposed by Kukkonen & Deb <cite data-cite=\"gde3many\"></cite> in an extension of GDE3 to many-objective problems.\n",
    "- **2-Nearest Neighbors** (*'2nn'*): Also proposed by Kukkonen & Deb <cite data-cite=\"gde3many\"></cite>, it is a variant of M-Nearest Neighbors in which the number of neighbors is two.\n",
    "- **Crowding Entropy** (*'ce'*): Proposed by Wang et al. <cite data-cite=\"mosade\"></cite> it considers the relative position of a solution between its neighors.\n",
    "\n",
    "We encourage users to try ``crowding_func='pcd'`` for two-objective problems and ``crowding_func='mnn'`` for problems with more than two objectives.\n",
    "\n",
    "If callable, it has the form ``fun(F, n_remove=None, **kwargs)`` in which F (n, m) and must return metrics in a (n,) array.\n",
    "\n",
    "The ``ConstrRankAndCrowding`` class has the constraint handling approach proposed by Kukkonen, S. & Lampinen, J. <cite data-cite=\"gde3\"></cite> implemented in which solutions are also sorted in constraint violations space."
   ]
  },
  {
   "attachments": {},
   "cell_type": "markdown",
   "metadata": {},
   "source": [
    "In the following examples the code for plotting was ommited although it is available at the [end of the page](#plots)."
   ]
  },
  {
   "cell_type": "code",
   "execution_count": null,
   "metadata": {},
   "outputs": [],
   "source": [
    "# Pymoo imports\n",
    "from pymoo.algorithms.moo.nsga2 import NSGA2\n",
    "from pymoo.operators.survival.rank_and_crowding import RankAndCrowding\n",
    "from pymoo.problems import get_problem\n",
    "from pymoo.optimize import minimize\n",
    "\n",
    "# External imports\n",
    "from plots import plot_pairs_2d, plot_pairs_3d"
   ]
  },
  {
   "cell_type": "code",
   "execution_count": null,
   "metadata": {},
   "outputs": [],
   "source": [
    "# Problem definition Truss-2d - a two-objective problem\n",
    "problem = get_problem(\"truss2d\")\n",
    "\n",
    "# Algorithms\n",
    "nsga2 = NSGA2(70, survival=RankAndCrowding(crowding_func=\"cd\"))\n",
    "nsga2_p = NSGA2(70, survival=RankAndCrowding(crowding_func=\"pcd\"))\n",
    "\n",
    "# Minimization results\n",
    "res_nsga2 = minimize(\n",
    "    problem,\n",
    "    nsga2,\n",
    "    ('n_gen', 200),\n",
    "    seed=12,\n",
    ")\n",
    "\n",
    "# Minimization results\n",
    "res_nsga2_p = minimize(\n",
    "    problem,\n",
    "    nsga2_p,\n",
    "    ('n_gen', 200),\n",
    "    seed=12,\n",
    ")"
   ]
  },
  {
   "cell_type": "code",
   "execution_count": null,
   "metadata": {},
   "outputs": [],
   "source": [
    "plot_pairs_2d(\n",
    "    (\"NSGA-II (original)\", res_nsga2.F),\n",
    "    (\"NSGA-II (pruning)\", res_nsga2_p.F),\n",
    "    figsize=[12, 5],\n",
    "    dpi=100,\n",
    ")"
   ]
  },
  {
   "cell_type": "code",
   "execution_count": null,
   "metadata": {},
   "outputs": [],
   "source": [
    "# Problem definition DTLZ2 - a three-objective problem\n",
    "problem = get_problem(\"dtlz2\")\n",
    "\n",
    "# Algorithms\n",
    "nsga2 = NSGA2(130, survival=RankAndCrowding(crowding_func=\"cd\"))\n",
    "nsga2_mnn = NSGA2(130, survival=RankAndCrowding(crowding_func=\"mnn\"))\n",
    "\n",
    "# Minimization results\n",
    "res_nsga2 = minimize(\n",
    "    problem,\n",
    "    nsga2,\n",
    "    ('n_gen', 150),\n",
    "    seed=12,\n",
    ")\n",
    "\n",
    "# Minimization results\n",
    "res_nsga2_mnn = minimize(\n",
    "    problem,\n",
    "    nsga2_mnn,\n",
    "    ('n_gen', 150),\n",
    "    seed=12,\n",
    ")"
   ]
  },
  {
   "cell_type": "code",
   "execution_count": null,
   "metadata": {},
   "outputs": [],
   "source": [
    "plot_pairs_3d(\n",
    "    (\"NSGA-II (original)\", res_nsga2.F),\n",
    "    (\"NSGA-II (mnn)\", res_nsga2_mnn.F),\n",
    "    figsize=[12, 5],\n",
    "    dpi=100,\n",
    ")"
   ]
  },
  {
   "attachments": {},
   "cell_type": "markdown",
   "metadata": {},
   "source": [
    "#### API"
   ]
  },
  {
   "cell_type": "raw",
   "metadata": {},
   "source": [
    ".. autoclass:: pymoo.operators.survival.rank_and_crowding.RankAndCrowding\n",
    "    :noindex:\n",
    "\n",
    ".. autoclass:: pymoo.operators.survival.rank_and_crowding.ConstrRankAndCrowding\n",
    "    :noindex:"
   ]
  },
  {
   "attachments": {},
   "cell_type": "markdown",
   "metadata": {},
   "source": [
    "#### Plots"
   ]
  },
  {
   "attachments": {},
   "cell_type": "markdown",
   "metadata": {},
   "source": [
    "```python\n",
    "import matplotlib.pyplot as plt\n",
    "\n",
    "\n",
    "def plot_pairs_3d(first, second, colors=(\"indigo\", \"firebrick\"), **kwargs):\n",
    "    \n",
    "    fig, ax = plt.subplots(1, 2, subplot_kw={'projection':'3d'}, **kwargs)\n",
    "\n",
    "    ax[0].scatter(\n",
    "        *first[1].T,\n",
    "        color=colors[0], label=first[0], marker=\"o\",\n",
    "    )\n",
    "    ax[0].set_ylabel(\"$f_2$\")\n",
    "    ax[0].set_xlabel(\"$f_1$\")\n",
    "    ax[0].set_zlabel(\"$f_3$\")\n",
    "    ax[0].legend()\n",
    "\n",
    "    ax[1].scatter(\n",
    "        *second[1].T,\n",
    "        color=colors[1], label=second[0], marker=\"o\",\n",
    "    )\n",
    "    ax[1].set_ylabel(\"$f_2$\")\n",
    "    ax[1].set_xlabel(\"$f_1$\")\n",
    "    ax[1].set_zlabel(\"$f_3$\")\n",
    "    ax[1].legend()\n",
    "\n",
    "    ax[0].view_init(elev=30, azim=30)\n",
    "    ax[1].view_init(elev=30, azim=30)\n",
    "\n",
    "    fig.tight_layout()\n",
    "    plt.show()\n",
    "\n",
    "\n",
    "def plot_pairs_2d(first, second, colors=(\"indigo\", \"firebrick\"), **kwargs):\n",
    "    \n",
    "    fig, ax = plt.subplots(1, 2, **kwargs)\n",
    "\n",
    "    ax[0].scatter(\n",
    "        *first[1].T,\n",
    "        color=colors[0], label=first[0], marker=\"o\",\n",
    "    )\n",
    "    ax[0].set_ylabel(\"$f_2$\")\n",
    "    ax[0].set_xlabel(\"$f_1$\")\n",
    "    ax[0].legend()\n",
    "\n",
    "    ax[1].scatter(\n",
    "        *second[1].T,\n",
    "        color=colors[1], label=second[0], marker=\"o\",\n",
    "    )\n",
    "    ax[1].set_ylabel(\"$f_2$\")\n",
    "    ax[1].set_xlabel(\"$f_1$\")\n",
    "    ax[1].legend()\n",
    "\n",
    "    fig.tight_layout()\n",
    "    plt.show()\n",
    "```"
   ]
  },
  {
   "cell_type": "code",
   "execution_count": null,
   "metadata": {},
   "outputs": [],
   "source": []
  }
 ],
 "metadata": {
  "kernelspec": {
   "display_name": "venv",
   "language": "python",
   "name": "python3"
  },
  "language_info": {
   "codemirror_mode": {
    "name": "ipython",
    "version": 3
   },
   "file_extension": ".py",
   "mimetype": "text/x-python",
   "name": "python",
   "nbconvert_exporter": "python",
   "pygments_lexer": "ipython3",
   "version": "3.9.7"
  },
  "orig_nbformat": 4,
  "vscode": {
   "interpreter": {
    "hash": "8ec0d6c9b8d50a94217d7ab4804e268ea3c783f3ca99db20a683c9c8ae9602ac"
   }
  }
 },
 "nbformat": 4,
 "nbformat_minor": 2
}
