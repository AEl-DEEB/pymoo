{
 "cells": [
  {
   "cell_type": "raw",
   "metadata": {
    "raw_mimetype": "text/restructuredtext"
   },
   "source": [
    ".. _nb_sampling:"
   ]
  },
  {
   "cell_type": "markdown",
   "metadata": {},
   "source": [
    "## Sampling"
   ]
  },
  {
   "cell_type": "markdown",
   "metadata": {},
   "source": [
    "In the beginning, initial points need to be sampled. *pymoo* offers different sampling methods depending on the variable type."
   ]
  },
  {
   "cell_type": "raw",
   "metadata": {
    "raw_mimetype": "text/restructuredtext"
   },
   "source": [
    ".. _nb_sampling_random:"
   ]
  },
  {
   "cell_type": "markdown",
   "metadata": {},
   "source": [
    "### Random Sampling"
   ]
  },
  {
   "cell_type": "code",
   "execution_count": null,
   "metadata": {
    "execution": {
     "iopub.execute_input": "2022-07-29T18:20:07.280743Z",
     "iopub.status.busy": "2022-07-29T18:20:07.280233Z",
     "iopub.status.idle": "2022-07-29T18:20:07.695250Z",
     "shell.execute_reply": "2022-07-29T18:20:07.693180Z"
    },
    "tags": []
   },
   "outputs": [],
   "source": [
    "from pymoo.core.problem import Problem\n",
    "from pymoo.operators.sampling.rnd import FloatRandomSampling\n",
    "from pymoo.util import plotting\n",
    "\n",
    "problem = Problem(n_var=2, xl=0, xu=1)\n",
    "\n",
    "sampling = FloatRandomSampling()\n",
    "\n",
    "X = sampling(problem, 200).get(\"X\")\n",
    "plotting.plot(X, no_fill=True)"
   ]
  },
  {
   "cell_type": "raw",
   "metadata": {
    "raw_mimetype": "text/restructuredtext"
   },
   "source": [
    ".. _nb_sampling_lhs:"
   ]
  },
  {
   "cell_type": "markdown",
   "metadata": {},
   "source": [
    "### Latin Hypercube Sampling"
   ]
  },
  {
   "cell_type": "code",
   "execution_count": null,
   "metadata": {
    "execution": {
     "iopub.execute_input": "2022-07-29T18:20:07.703570Z",
     "iopub.status.busy": "2022-07-29T18:20:07.702162Z",
     "iopub.status.idle": "2022-07-29T18:20:08.035477Z",
     "shell.execute_reply": "2022-07-29T18:20:08.034826Z"
    },
    "tags": []
   },
   "outputs": [],
   "source": [
    "from pymoo.operators.sampling.lhs import LHS\n",
    "\n",
    "sampling = LHS()\n",
    "\n",
    "X = sampling(problem, 200).get(\"X\")\n",
    "plotting.plot(X, no_fill=True)"
   ]
  },
  {
   "cell_type": "markdown",
   "metadata": {},
   "source": [
    "### API"
   ]
  },
  {
   "cell_type": "raw",
   "metadata": {
    "raw_mimetype": "text/restructuredtext"
   },
   "source": [
    ".. autofunction:: pymoo.factory.get_sampling\n",
    "    :noindex:\n",
    "\n",
    ".. autofunction:: pymoo.core.sampling.Sampling\n",
    "    :noindex:"
   ]
  }
 ],
 "metadata": {
  "celltoolbar": "Raw Cell Format",
  "kernelspec": {
   "display_name": "Python 3",
   "language": "python",
   "name": "python3"
  },
  "language_info": {
   "codemirror_mode": {
    "name": "ipython",
    "version": 3
   },
   "file_extension": ".py",
   "mimetype": "text/x-python",
   "name": "python",
   "nbconvert_exporter": "python",
   "pygments_lexer": "ipython3",
   "version": "3.10.5"
  }
 },
 "nbformat": 4,
 "nbformat_minor": 4
}
