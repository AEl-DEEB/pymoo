{
 "cells": [
  {
   "cell_type": "markdown",
   "metadata": {
    "raw_mimetype": "text/restructuredtext"
   },
   "source": [
    ".. _nb_mixed_variable:"
   ]
  },
  {
   "cell_type": "markdown",
   "metadata": {},
   "source": [
    "## Mixed Variable Problem\n",
    "\n",
    "In some cases, variables might have different types; some might be real, and others integer-valued. For those cases, different evolutionary operators must be applied to a different type of variables. In **pymoo** this is supported by instantiating operators with a mask. Let us consider the following optimization problem with two variables:"
   ]
  },
  {
   "cell_type": "code",
   "execution_count": 1,
   "metadata": {
    "execution": {
     "iopub.execute_input": "2022-07-03T13:26:15.321869Z",
     "iopub.status.busy": "2022-07-03T13:26:15.320910Z",
     "iopub.status.idle": "2022-07-03T13:26:15.682866Z",
     "shell.execute_reply": "2022-07-03T13:26:15.681860Z"
    },
    "tags": []
   },
   "outputs": [],
   "source": [
    "from pymoo.core.problem import ElementwiseProblem\n",
    "\n",
    "class MixedVariableProblem(ElementwiseProblem):\n",
    "\n",
    "    def __init__(self, **kwargs):\n",
    "        vars = {\n",
    "            \"z\": Real(bounds=(-5, 5)),\n",
    "            \"y\": Integer(bounds=(-2, 2)),\n",
    "        }\n",
    "        super().__init__(vars=vars, n_obj=1, n_ieq_constr=1, **kwargs)\n",
    "\n",
    "    def _evaluate(self, X, out, *args, **kwargs):\n",
    "        z, y = X[\"z\"], X[\"y\"]\n",
    "        out[\"F\"] = z + y\n",
    "        out[\"G\"] = 3 - z - y"
   ]
  },
  {
   "cell_type": "markdown",
   "metadata": {},
   "source": [
    "We would like to keep the first variable in integer and the second variable a real value; therefore, we first define a mask that defines the type for each variable:"
   ]
  },
  {
   "cell_type": "markdown",
   "metadata": {},
   "source": [
    "Furthermore, all operators that are necessary to run the algorithm must be defined. The mixed variable classes allow the use of existing operator implementations and apply inside the mask during running time. The keys of the dictionary must match the keywords used in the mask. Internally, the mating considers each type of the mask separately, applies the operator, and finally concatenates the results. "
   ]
  },
  {
   "cell_type": "code",
   "execution_count": 2,
   "metadata": {
    "execution": {
     "iopub.execute_input": "2022-07-03T13:26:15.693980Z",
     "iopub.status.busy": "2022-07-03T13:26:15.688385Z",
     "iopub.status.idle": "2022-07-03T13:26:22.217163Z",
     "shell.execute_reply": "2022-07-03T13:26:22.216574Z"
    },
    "tags": []
   },
   "outputs": [
    {
     "name": "stdout",
     "output_type": "stream",
     "text": [
      "Best solution found: \n",
      "X = {'z': 2.000026156077974, 'y': 1}\n",
      "F = [3.00002616]\n"
     ]
    }
   ],
   "source": [
    "from pymoo.algorithms.soo.nonconvex.ga import GA\n",
    "from pymoo.core.mixed import MixedVariableMating, MixedVariableSampling, MixedVariableDuplicateElimination\n",
    "from pymoo.core.variable import Real, Integer\n",
    "from pymoo.optimize import minimize\n",
    "\n",
    "\n",
    "problem = MixedVariableProblem()\n",
    "\n",
    "dupl = MixedVariableDuplicateElimination()\n",
    "\n",
    "algorithm = GA(sampling=MixedVariableSampling(),\n",
    "               mating=MixedVariableMating(eliminate_duplicates=dupl),\n",
    "               eliminate_duplicates=dupl)\n",
    "\n",
    "res = minimize(problem,\n",
    "               algorithm,\n",
    "               ('n_gen', 50),\n",
    "               seed=1,\n",
    "               save_history=True,\n",
    "               verbose=False)\n",
    "\n",
    "print(\"Best solution found: \\nX = %s\\nF = %s\" % (res.X, res.F))"
   ]
  }
 ],
 "metadata": {
  "kernelspec": {
   "display_name": "Python 3",
   "language": "python",
   "name": "python3"
  },
  "language_info": {
   "codemirror_mode": {
    "name": "ipython",
    "version": 3
   },
   "file_extension": ".py",
   "mimetype": "text/x-python",
   "name": "python",
   "nbconvert_exporter": "python",
   "pygments_lexer": "ipython3",
   "version": "3.9.12"
  }
 },
 "nbformat": 4,
 "nbformat_minor": 4
}
