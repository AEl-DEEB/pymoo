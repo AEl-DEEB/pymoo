{
 "cells": [
  {
   "cell_type": "raw",
   "metadata": {
    "raw_mimetype": "text/restructuredtext"
   },
   "source": [
    ".. _nb_convergence:"
   ]
  },
  {
   "cell_type": "markdown",
   "metadata": {},
   "source": [
    "# Convergence"
   ]
  },
  {
   "cell_type": "markdown",
   "metadata": {},
   "source": [
    "It is fundamentally important to keep track of the convergence of an algorithm. Convergence graphs visualize the improvement over time, which is vital to evaluate how good the algorithm performance or what algorithms perform better. In pymoo different ways of tracking the performance exists. One is to store the whole algorithms run using the `save_history` flag and extract the necessary information for post-processing. Since history includes a deep copy, this can become memory intensive if many iterations are run. An alternative is to use a `Callback` object to just store the information needed and use them later on for plotting. Both ways are explained in the following for an unconstrained single-objective problem. Please bear in mind if your optimization problem has constraints or more than one objective, this needs to be addressed in the convergence curve (for instance, via plotting the `CV`, too, or using multi-objective optimization performance metrics). "
   ]
  },
  {
   "cell_type": "markdown",
   "metadata": {},
   "source": [
    "## History"
   ]
  },
  {
   "cell_type": "markdown",
   "metadata": {},
   "source": [
    "Run your algorithm on the corresponding problem and make sure the `save_history` flag is enabled when calling the `minimize` function."
   ]
  },
  {
   "cell_type": "code",
   "execution_count": null,
   "metadata": {
    "execution": {
     "iopub.execute_input": "2022-07-30T17:21:50.549398Z",
     "iopub.status.busy": "2022-07-30T17:21:50.548963Z",
     "iopub.status.idle": "2022-07-30T17:21:51.096155Z",
     "shell.execute_reply": "2022-07-30T17:21:51.095232Z"
    },
    "tags": []
   },
   "outputs": [],
   "source": [
    "from pymoo.algorithms.soo.nonconvex.pso import PSO\n",
    "from pymoo.problems import get_problem\n",
    "from pymoo.optimize import minimize\n",
    "\n",
    "problem = get_problem(\"ackley\")\n",
    "algorithm = PSO()\n",
    "\n",
    "res = minimize(problem,\n",
    "               algorithm,\n",
    "               termination=('n_gen', 50),\n",
    "               seed=1,\n",
    "               save_history=True)"
   ]
  },
  {
   "cell_type": "markdown",
   "metadata": {},
   "source": [
    "This creates a deep copy of the algorithm in each generation."
   ]
  },
  {
   "cell_type": "code",
   "execution_count": null,
   "metadata": {
    "execution": {
     "iopub.execute_input": "2022-07-30T17:21:51.100017Z",
     "iopub.status.busy": "2022-07-30T17:21:51.099739Z",
     "iopub.status.idle": "2022-07-30T17:21:51.106053Z",
     "shell.execute_reply": "2022-07-30T17:21:51.105414Z"
    },
    "tags": []
   },
   "outputs": [],
   "source": [
    "len(res.history)"
   ]
  },
  {
   "cell_type": "markdown",
   "metadata": {},
   "source": [
    "This might be even more data than necessary and, therefore, not always the most memory-efficient method to use. However, if the number of generations is only a few hundred and the `problem` and `algorithm` objects do not contain a large amount of data, this shall be not a big deal. Using the history, we can extract the number of function evaluations and the optimum stored in the algorithm object at each generation/iteration. The `algorithm` object has the attribute `opt` (a `Population` object), which contains the current optimum. For single-objective algorithms, this is known to be only a **single** solution."
   ]
  },
  {
   "cell_type": "code",
   "execution_count": null,
   "metadata": {
    "execution": {
     "iopub.execute_input": "2022-07-30T17:21:51.109308Z",
     "iopub.status.busy": "2022-07-30T17:21:51.108990Z",
     "iopub.status.idle": "2022-07-30T17:21:51.634971Z",
     "shell.execute_reply": "2022-07-30T17:21:51.634267Z"
    },
    "tags": []
   },
   "outputs": [],
   "source": [
    "import numpy as np\n",
    "import matplotlib.pyplot as plt\n",
    "\n",
    "n_evals = np.array([e.evaluator.n_eval for e in res.history])\n",
    "opt = np.array([e.opt[0].F for e in res.history])\n",
    "\n",
    "plt.title(\"Convergence\")\n",
    "plt.plot(n_evals, opt, \"--\")\n",
    "plt.yscale(\"log\")\n",
    "plt.show()"
   ]
  },
  {
   "cell_type": "markdown",
   "metadata": {},
   "source": [
    "## Callback"
   ]
  },
  {
   "cell_type": "markdown",
   "metadata": {},
   "source": [
    "Another way is to define a `Callback` object, which stores the information necessary to plot the convergence.\n",
    "Make sure to pass the object to the `minimize` function to get the notifications each iteration of the algorithm."
   ]
  },
  {
   "cell_type": "code",
   "execution_count": null,
   "metadata": {
    "execution": {
     "iopub.execute_input": "2022-07-30T17:21:51.638363Z",
     "iopub.status.busy": "2022-07-30T17:21:51.638079Z",
     "iopub.status.idle": "2022-07-30T17:21:51.767304Z",
     "shell.execute_reply": "2022-07-30T17:21:51.766567Z"
    },
    "tags": []
   },
   "outputs": [],
   "source": [
    "from pymoo.algorithms.soo.nonconvex.pso import PSO\n",
    "from pymoo.problems import get_problem\n",
    "from pymoo.optimize import minimize\n",
    "from pymoo.core.callback import Callback\n",
    "\n",
    "class MyCallback(Callback):\n",
    "\n",
    "    def __init__(self) -> None:\n",
    "        super().__init__()\n",
    "        self.n_evals = []\n",
    "        self.opt = []\n",
    "\n",
    "    def notify(self, algorithm):\n",
    "        self.n_evals.append(algorithm.evaluator.n_eval)\n",
    "        self.opt.append(algorithm.opt[0].F)\n",
    "\n",
    "\n",
    "problem = get_problem(\"ackley\")\n",
    "algorithm = PSO()\n",
    "callback = MyCallback()\n",
    "\n",
    "res = minimize(problem,\n",
    "               algorithm,\n",
    "               callback=callback,\n",
    "               termination=('n_gen', 50),\n",
    "               seed=1)"
   ]
  },
  {
   "cell_type": "markdown",
   "metadata": {},
   "source": [
    "Now the `callback` object contains the information of each generation which can be used for plotting."
   ]
  },
  {
   "cell_type": "code",
   "execution_count": null,
   "metadata": {
    "execution": {
     "iopub.execute_input": "2022-07-30T17:21:51.771105Z",
     "iopub.status.busy": "2022-07-30T17:21:51.770797Z",
     "iopub.status.idle": "2022-07-30T17:21:52.200144Z",
     "shell.execute_reply": "2022-07-30T17:21:52.199235Z"
    },
    "tags": []
   },
   "outputs": [],
   "source": [
    "plt.title(\"Convergence\")\n",
    "plt.plot(callback.n_evals, callback.opt, \"--\")\n",
    "plt.yscale(\"log\")\n",
    "plt.show()"
   ]
  }
 ],
 "metadata": {
  "kernelspec": {
   "display_name": "Python 3",
   "language": "python",
   "name": "python3"
  },
  "language_info": {
   "codemirror_mode": {
    "name": "ipython",
    "version": 3
   },
   "file_extension": ".py",
   "mimetype": "text/x-python",
   "name": "python",
   "nbconvert_exporter": "python",
   "pygments_lexer": "ipython3",
   "version": "3.10.5"
  }
 },
 "nbformat": 4,
 "nbformat_minor": 4
}
