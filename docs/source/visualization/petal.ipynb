{
 "cells": [
  {
   "cell_type": "raw",
   "metadata": {
    "raw_mimetype": "text/restructuredtext"
   },
   "source": [
    ".. _nb_petal:"
   ]
  },
  {
   "cell_type": "markdown",
   "metadata": {},
   "source": [
    "## Petal Diagram\n"
   ]
  },
  {
   "cell_type": "markdown",
   "metadata": {},
   "source": [
    "Also, it might be interesting to compare one solution with another. Here, a visual a single solution regarding its trade-offs.\n",
    "\n",
    "Let us visualize some test data:"
   ]
  },
  {
   "cell_type": "code",
   "execution_count": null,
   "metadata": {
    "execution": {
     "iopub.execute_input": "2022-07-29T18:16:43.326955Z",
     "iopub.status.busy": "2022-07-29T18:16:43.326594Z",
     "iopub.status.idle": "2022-07-29T18:16:43.339135Z",
     "shell.execute_reply": "2022-07-29T18:16:43.338281Z"
    },
    "tags": []
   },
   "outputs": [],
   "source": [
    "import numpy as np\n",
    "\n",
    "np.random.seed(1234)\n",
    "F = np.random.random((1, 6))\n",
    "print(F)"
   ]
  },
  {
   "cell_type": "markdown",
   "metadata": {},
   "source": [
    "A simple petal plot can be created by:"
   ]
  },
  {
   "cell_type": "code",
   "execution_count": null,
   "metadata": {
    "execution": {
     "iopub.execute_input": "2022-07-29T18:16:43.343583Z",
     "iopub.status.busy": "2022-07-29T18:16:43.343278Z",
     "iopub.status.idle": "2022-07-29T18:16:43.675603Z",
     "shell.execute_reply": "2022-07-29T18:16:43.674856Z"
    },
    "tags": []
   },
   "outputs": [],
   "source": [
    "from pymoo.visualization.petal import Petal\n",
    "\n",
    "Petal(bounds=[0, 1]).add(F).show()"
   ]
  },
  {
   "cell_type": "markdown",
   "metadata": {},
   "source": [
    "If you prefer to visualize smaller values with a larger area, set `reverse=True`:"
   ]
  },
  {
   "cell_type": "code",
   "execution_count": null,
   "metadata": {
    "execution": {
     "iopub.execute_input": "2022-07-29T18:16:43.679303Z",
     "iopub.status.busy": "2022-07-29T18:16:43.678998Z",
     "iopub.status.idle": "2022-07-29T18:16:43.925659Z",
     "shell.execute_reply": "2022-07-29T18:16:43.924959Z"
    },
    "tags": []
   },
   "outputs": [],
   "source": [
    "Petal(bounds=[0, 1], reverse=True).add(F).show()"
   ]
  },
  {
   "cell_type": "code",
   "execution_count": null,
   "metadata": {
    "execution": {
     "iopub.execute_input": "2022-07-29T18:16:43.928968Z",
     "iopub.status.busy": "2022-07-29T18:16:43.928537Z",
     "iopub.status.idle": "2022-07-29T18:16:44.094716Z",
     "shell.execute_reply": "2022-07-29T18:16:44.093888Z"
    },
    "tags": []
   },
   "outputs": [],
   "source": [
    "plot = Petal(bounds=[0, 1],\n",
    "             cmap=\"tab20\",\n",
    "             labels=[\"profit\", \"cost\", \"sustainability\", \"environment\", \"satisfaction\", \"time\"],\n",
    "             title=(\"Solution A\", {'pad': 20}))\n",
    "plot.add(F)\n",
    "plot.show()"
   ]
  },
  {
   "cell_type": "markdown",
   "metadata": {},
   "source": [
    "Each add will plot solutions in a row. Each entry represents a column.\n",
    "Easily, different solutions can be compared."
   ]
  },
  {
   "cell_type": "code",
   "execution_count": null,
   "metadata": {
    "execution": {
     "iopub.execute_input": "2022-07-29T18:16:44.099373Z",
     "iopub.status.busy": "2022-07-29T18:16:44.098998Z",
     "iopub.status.idle": "2022-07-29T18:16:44.553929Z",
     "shell.execute_reply": "2022-07-29T18:16:44.553209Z"
    },
    "tags": []
   },
   "outputs": [],
   "source": [
    "F = np.random.random((6, 6))\n",
    "plot = Petal(bounds=[0, 1], title=[\"Solution %s\" % t for t in [\"A\", \"B\", \"C\", \"D\", \"E\", \"F\"]])\n",
    "plot.add(F[:3])\n",
    "plot.add(F[3:])\n",
    "plot.show()"
   ]
  },
  {
   "cell_type": "markdown",
   "metadata": {},
   "source": [
    "### API"
   ]
  },
  {
   "cell_type": "raw",
   "metadata": {
    "raw_mimetype": "text/restructuredtext"
   },
   "source": [
    ".. autoclass:: pymoo.visualization.petal.Petal\n",
    "    :noindex:"
   ]
  }
 ],
 "metadata": {
  "kernelspec": {
   "display_name": "Python 3",
   "language": "python",
   "name": "python3"
  },
  "language_info": {
   "codemirror_mode": {
    "name": "ipython",
    "version": 3
   },
   "file_extension": ".py",
   "mimetype": "text/x-python",
   "name": "python",
   "nbconvert_exporter": "python",
   "pygments_lexer": "ipython3",
   "version": "3.10.5"
  }
 },
 "nbformat": 4,
 "nbformat_minor": 4
}
