{
 "cells": [
  {
   "cell_type": "raw",
   "metadata": {
    "raw_mimetype": "text/restructuredtext"
   },
   "source": [
    ".. _nb_petal:"
   ]
  },
  {
   "cell_type": "markdown",
   "metadata": {},
   "source": [
    "## Petal Diagram\n"
   ]
  },
  {
   "cell_type": "markdown",
   "metadata": {},
   "source": [
    "Also, it might be interesting to compare one solution with another. Here, a visual a single solution regarding its trade-offs.\n",
    "\n",
    "Let us visualize some test data:"
   ]
  },
  {
   "cell_type": "code",
   "execution_count": null,
   "metadata": {
    "execution": {
     "iopub.execute_input": "2022-07-30T17:20:58.143010Z",
     "iopub.status.busy": "2022-07-30T17:20:58.142481Z",
     "iopub.status.idle": "2022-07-30T17:20:58.149230Z",
     "shell.execute_reply": "2022-07-30T17:20:58.148510Z"
    },
    "tags": []
   },
   "outputs": [],
   "source": [
    "import numpy as np\n",
    "\n",
    "np.random.seed(1234)\n",
    "F = np.random.random((1, 6))\n",
    "print(F)"
   ]
  },
  {
   "cell_type": "markdown",
   "metadata": {},
   "source": [
    "A simple petal plot can be created by:"
   ]
  },
  {
   "cell_type": "code",
   "execution_count": null,
   "metadata": {
    "execution": {
     "iopub.execute_input": "2022-07-30T17:20:58.153305Z",
     "iopub.status.busy": "2022-07-30T17:20:58.152980Z",
     "iopub.status.idle": "2022-07-30T17:20:58.507011Z",
     "shell.execute_reply": "2022-07-30T17:20:58.506186Z"
    },
    "tags": []
   },
   "outputs": [],
   "source": [
    "from pymoo.visualization.petal import Petal\n",
    "\n",
    "Petal(bounds=[0, 1]).add(F).show()"
   ]
  },
  {
   "cell_type": "markdown",
   "metadata": {},
   "source": [
    "If you prefer to visualize smaller values with a larger area, set `reverse=True`:"
   ]
  },
  {
   "cell_type": "code",
   "execution_count": null,
   "metadata": {
    "execution": {
     "iopub.execute_input": "2022-07-30T17:20:58.510483Z",
     "iopub.status.busy": "2022-07-30T17:20:58.510172Z",
     "iopub.status.idle": "2022-07-30T17:20:58.753765Z",
     "shell.execute_reply": "2022-07-30T17:20:58.752896Z"
    },
    "tags": []
   },
   "outputs": [],
   "source": [
    "Petal(bounds=[0, 1], reverse=True).add(F).show()"
   ]
  },
  {
   "cell_type": "code",
   "execution_count": null,
   "metadata": {
    "execution": {
     "iopub.execute_input": "2022-07-30T17:20:58.758018Z",
     "iopub.status.busy": "2022-07-30T17:20:58.757691Z",
     "iopub.status.idle": "2022-07-30T17:20:58.962607Z",
     "shell.execute_reply": "2022-07-30T17:20:58.961912Z"
    },
    "tags": []
   },
   "outputs": [],
   "source": [
    "plot = Petal(bounds=[0, 1],\n",
    "             cmap=\"tab20\",\n",
    "             labels=[\"profit\", \"cost\", \"sustainability\", \"environment\", \"satisfaction\", \"time\"],\n",
    "             title=(\"Solution A\", {'pad': 20}))\n",
    "plot.add(F)\n",
    "plot.show()"
   ]
  },
  {
   "cell_type": "markdown",
   "metadata": {},
   "source": [
    "Each add will plot solutions in a row. Each entry represents a column.\n",
    "Easily, different solutions can be compared."
   ]
  },
  {
   "cell_type": "code",
   "execution_count": null,
   "metadata": {
    "execution": {
     "iopub.execute_input": "2022-07-30T17:20:58.966042Z",
     "iopub.status.busy": "2022-07-30T17:20:58.965760Z",
     "iopub.status.idle": "2022-07-30T17:20:59.415599Z",
     "shell.execute_reply": "2022-07-30T17:20:59.414816Z"
    },
    "tags": []
   },
   "outputs": [],
   "source": [
    "F = np.random.random((6, 6))\n",
    "plot = Petal(bounds=[0, 1], title=[\"Solution %s\" % t for t in [\"A\", \"B\", \"C\", \"D\", \"E\", \"F\"]])\n",
    "plot.add(F[:3])\n",
    "plot.add(F[3:])\n",
    "plot.show()"
   ]
  },
  {
   "cell_type": "markdown",
   "metadata": {},
   "source": [
    "### API"
   ]
  },
  {
   "cell_type": "raw",
   "metadata": {
    "raw_mimetype": "text/restructuredtext"
   },
   "source": [
    ".. autoclass:: pymoo.visualization.petal.Petal\n",
    "    :noindex:"
   ]
  }
 ],
 "metadata": {
  "kernelspec": {
   "display_name": "Python 3",
   "language": "python",
   "name": "python3"
  },
  "language_info": {
   "codemirror_mode": {
    "name": "ipython",
    "version": 3
   },
   "file_extension": ".py",
   "mimetype": "text/x-python",
   "name": "python",
   "nbconvert_exporter": "python",
   "pygments_lexer": "ipython3",
   "version": "3.10.5"
  }
 },
 "nbformat": 4,
 "nbformat_minor": 4
}
