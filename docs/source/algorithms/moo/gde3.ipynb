{
 "cells": [
  {
   "attachments": {},
   "cell_type": "raw",
   "metadata": {},
   "source": [
    ".. _nb_gde3:"
   ]
  },
  {
   "attachments": {},
   "cell_type": "markdown",
   "metadata": {},
   "source": [
    ".. meta::\n",
    "   :description: Generalized Differential Evolution 3 (GDE3) is one of the most popular multi-objective variants of DE. It incorporates the Rank and Crowding survival selection of NSGA-II to a basic DE algorithm."
   ]
  },
  {
   "attachments": {},
   "cell_type": "markdown",
   "metadata": {},
   "source": [
    ".. meta::\n",
    "   :keywords: Differential Evolution, DE,  Multi-modal Optimization, Nature-inspired Algorithm, Multi-objective Optimization, Python"
   ]
  },
  {
   "attachments": {},
   "cell_type": "markdown",
   "metadata": {},
   "source": [
    "# GDE3: Generalized Differential Evolution 3"
   ]
  },
  {
   "attachments": {},
   "cell_type": "markdown",
   "metadata": {},
   "source": [
    "Differential evolution <cite data-cite=\"de_article\"></cite>, originally designed for single-objective optimization, has been modified in different ways to solve multi-objective problems. GDE3 <cite data-cite=\"gde3\"></cite> is one of the most popular multi-objective variants of DE. It incorporates the [Rank and Crowding](./../../operators/survival.ipynb) survival selection of NSGA-II <cite data-cite=\"nsga2\"></cite> to a basic DE algorithm. Differently from other multi-objective variants of DE, GDE3 has a one-to-one comparison between each member in the parent population $x_i$ and its corresponding trial vector $u_i$ before truncating the population into the original size. In this one-to-one comparison, one of the individuals of each pair might be removed in advance from the combined population before (*µ*+*λ*) survival if dominated by the other.\n",
    "\n",
    "Other variants of GDE3 that slghtly modify the Rank and Crowding mechanisms are also included:\n",
    "- GDE3-MNN <cite data-cite=\"gde3many\"></cite> (class `GDE3MNN`)\n",
    "- GDE3 with improved pruning of non-dominated solutions in bi-objective problems <cite data-cite=\"gde3pruning\"></cite> (class `GDE3P`)"
   ]
  },
  {
   "attachments": {},
   "cell_type": "markdown",
   "metadata": {},
   "source": [
    "### Bi-objective example"
   ]
  },
  {
   "cell_type": "code",
   "execution_count": null,
   "metadata": {},
   "outputs": [],
   "source": [
    "from pymoo.algorithms.moo.gde3 import GDE3, GDE3P, GDE3MNN\n",
    "from pymoo.problems import get_problem\n",
    "from pymoo.optimize import minimize\n",
    "from pymoo.visualization.scatter import Scatter\n",
    "\n",
    "problem = get_problem(\"zdt1\")\n",
    "\n",
    "algorithm = GDE3P(pop_size=100)\n",
    "\n",
    "res = minimize(problem,\n",
    "               algorithm,\n",
    "               ('n_gen', 200),\n",
    "               seed=1,\n",
    "               verbose=False)\n",
    "\n",
    "plot = Scatter()\n",
    "plot.add(problem.pareto_front(), plot_type=\"line\", color=\"black\", alpha=0.7)\n",
    "plot.add(res.F, facecolor=\"none\", edgecolor=\"red\")\n",
    "plot.show()"
   ]
  },
  {
   "attachments": {},
   "cell_type": "markdown",
   "metadata": {},
   "source": [
    "### Three-objective example"
   ]
  },
  {
   "cell_type": "code",
   "execution_count": null,
   "metadata": {},
   "outputs": [],
   "source": [
    "problem = get_problem(\"dtlz2\")\n",
    "\n",
    "algorithm = GDE3MNN(pop_size=100)\n",
    "\n",
    "res = minimize(problem,\n",
    "               algorithm,\n",
    "               ('n_gen', 200),\n",
    "               seed=1,\n",
    "               verbose=False)\n",
    "\n",
    "plot = Scatter()\n",
    "plot.add(problem.pareto_front(), facecolor=\"none\", edgecolor=\"black\", alpha=0.7)\n",
    "plot.add(res.F, facecolor=\"red\", edgecolor=\"none\")\n",
    "plot.show()"
   ]
  },
  {
   "attachments": {},
   "cell_type": "markdown",
   "metadata": {},
   "source": [
    "### API"
   ]
  },
  {
   "cell_type": "raw",
   "metadata": {},
   "source": [
    ".. autoclass:: pymoo.algorithms.moo.gde3.GDE3\n",
    "    :noindex:"
   ]
  }
 ],
 "metadata": {
  "kernelspec": {
   "display_name": "venv",
   "language": "python",
   "name": "python3"
  },
  "language_info": {
   "codemirror_mode": {
    "name": "ipython",
    "version": 3
   },
   "file_extension": ".py",
   "mimetype": "text/x-python",
   "name": "python",
   "nbconvert_exporter": "python",
   "pygments_lexer": "ipython3",
   "version": "3.9.7"
  },
  "orig_nbformat": 4
 },
 "nbformat": 4,
 "nbformat_minor": 2
}
