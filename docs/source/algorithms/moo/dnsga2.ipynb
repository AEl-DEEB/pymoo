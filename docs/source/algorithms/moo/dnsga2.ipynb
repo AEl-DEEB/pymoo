{
 "cells": [
  {
   "cell_type": "raw",
   "id": "1c4f9d85-e64f-4680-a937-1079d69d5c33",
   "metadata": {
    "raw_mimetype": "text/restructuredtext"
   },
   "source": [
    ".. _nb_dnsga2:"
   ]
  },
  {
   "cell_type": "markdown",
   "id": "d5d1027b-bd4a-4c01-8f05-b08e19225345",
   "metadata": {},
   "source": [
    ".. meta::\n",
    "   :description: An implementation of the famous NSGA-II (also known as NSGA2) algorithm to solve multi-objective optimization problems. The non-dominated rank and crowding distance is used to introduce diversity in the objective space in each generation."
   ]
  },
  {
   "cell_type": "markdown",
   "id": "3e05822b-83eb-4ac3-8400-5bdfcd610f53",
   "metadata": {},
   "source": [
    ".. meta::\n",
    "   :keywords: NSGA2, NSGA-II, Non-Dominated Sorting, Multi-objective Optimization, Python"
   ]
  },
  {
   "cell_type": "markdown",
   "id": "f0a1dfd8-a241-4f73-b8db-3ed46ae7fd23",
   "metadata": {
    "tags": []
   },
   "source": [
    "# D-NSGA-II"
   ]
  },
  {
   "cell_type": "code",
   "execution_count": 3,
   "id": "4a786da2-8c26-406e-ad1e-c6f0159793c1",
   "metadata": {},
   "outputs": [],
   "source": [
    "from pymoo.algorithms.moo.dnsga2 import DNSGA2\n",
    "from pymoo.optimize import minimize\n",
    "from pymoo.problems.dyn import TimeSimulation\n",
    "from pymoo.problems.dynamic.df import DF1\n",
    "\n",
    "problem = DF1(taut=2, n_var=2)\n",
    "\n",
    "algorithm = DNSGA2()\n",
    "\n",
    "simulation = TimeSimulation()\n",
    "\n",
    "res = minimize(problem,\n",
    "               algorithm,\n",
    "               termination=('n_gen', 100),\n",
    "               callback=simulation,\n",
    "               seed=1,\n",
    "               verbose=False)\n"
   ]
  },
  {
   "cell_type": "code",
   "execution_count": null,
   "id": "50156e3b-d679-4036-be75-0dc3561ed904",
   "metadata": {},
   "outputs": [],
   "source": []
  }
 ],
 "metadata": {
  "kernelspec": {
   "display_name": "Python 3 (ipykernel)",
   "language": "python",
   "name": "python3"
  },
  "language_info": {
   "codemirror_mode": {
    "name": "ipython",
    "version": 3
   },
   "file_extension": ".py",
   "mimetype": "text/x-python",
   "name": "python",
   "nbconvert_exporter": "python",
   "pygments_lexer": "ipython3",
   "version": "3.9.12"
  }
 },
 "nbformat": 4,
 "nbformat_minor": 5
}
