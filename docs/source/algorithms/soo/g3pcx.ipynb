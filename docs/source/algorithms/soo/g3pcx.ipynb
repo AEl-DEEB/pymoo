{
 "cells": [
  {
   "cell_type": "raw",
   "metadata": {
    "raw_mimetype": "text/restructuredtext"
   },
   "source": [
    ".. _nb_g3pcx:"
   ]
  },
  {
   "cell_type": "markdown",
   "metadata": {},
   "source": [
    "# G3PCX: A Computationally Efficient Evolutionary Algorithm for Real-Parameter Optimization"
   ]
  },
  {
   "cell_type": "markdown",
   "metadata": {},
   "source": [
    "The algorithm is implemented based on <cite data-cite=\"g3pcx\"></cite>.\n",
    "This is an implementation of PCX operator using G3 model. This is an unconstrained optimization algorithm which is suitable for real parameter optimization. "
   ]
  },
  {
   "cell_type": "code",
   "execution_count": null,
   "metadata": {
    "execution": {
     "iopub.execute_input": "2022-07-29T18:27:52.692265Z",
     "iopub.status.busy": "2022-07-29T18:27:52.691667Z",
     "iopub.status.idle": "2022-07-29T18:27:54.381018Z",
     "shell.execute_reply": "2022-07-29T18:27:54.380305Z"
    },
    "tags": []
   },
   "outputs": [],
   "source": [
    "from pymoo.algorithms.soo.nonconvex.g3pcx import G3PCX\n",
    "from pymoo.problems.single import Ackley\n",
    "from pymoo.optimize import minimize\n",
    "\n",
    "problem = Ackley()\n",
    "\n",
    "algorithm = G3PCX()\n",
    "\n",
    "res = minimize(problem,\n",
    "               algorithm,\n",
    "               seed=1,\n",
    "               verbose=False)\n",
    "\n",
    "print(\"Best solution found: \\nX = %s\\nF = %s\" % (res.X, res.F))"
   ]
  },
  {
   "cell_type": "markdown",
   "metadata": {},
   "source": [
    "### API"
   ]
  },
  {
   "cell_type": "raw",
   "metadata": {
    "raw_mimetype": "text/restructuredtext"
   },
   "source": [
    ".. autoclass:: pymoo.algorithms.soo.nonconvex.g3pcx.G3PCX\n",
    "    :noindex:\n",
    "    :no-undoc-members:"
   ]
  }
 ],
 "metadata": {
  "celltoolbar": "Raw Cell Format",
  "kernelspec": {
   "display_name": "Python 3 (ipykernel)",
   "language": "python",
   "name": "python3"
  },
  "language_info": {
   "codemirror_mode": {
    "name": "ipython",
    "version": 3
   },
   "file_extension": ".py",
   "mimetype": "text/x-python",
   "name": "python",
   "nbconvert_exporter": "python",
   "pygments_lexer": "ipython3",
   "version": "3.10.5"
  }
 },
 "nbformat": 4,
 "nbformat_minor": 4
}
